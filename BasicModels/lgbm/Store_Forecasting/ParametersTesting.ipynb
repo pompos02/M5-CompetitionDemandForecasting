{
 "cells": [
  {
   "cell_type": "code",
   "execution_count": 1,
   "metadata": {},
   "outputs": [],
   "source": [
    "import pickle\n",
    "\n",
    "\n",
    "with open(\"/path/to/BasicModels/LSTM/pkl_files/store_series_dict.pkl\",\"rb\") as file:\n",
    "    store_series_dict=pickle.load(file)"
   ]
  },
  {
   "cell_type": "code",
   "execution_count": null,
   "metadata": {},
   "outputs": [],
   "source": [
    "from darts.dataprocessing.transformers import Scaler, StaticCovariatesTransformer\n",
    "import numpy as np\n"
   ]
  },
  {
   "cell_type": "markdown",
   "metadata": {},
   "source": [
    "Splitting my series to train, validation and test, fitting the the sacleres"
   ]
  },
  {
   "cell_type": "code",
   "execution_count": 3,
   "metadata": {},
   "outputs": [],
   "source": [
    "from darts import TimeSeries\n",
    "from darts.dataprocessing.transformers import FittableDataTransformer\n",
    "\n",
    "class DualScaler(FittableDataTransformer):\n",
    "    \"\"\"\n",
    "    A simple composite transformer applying:\n",
    "    - `ts_scaler` on the sequential part of a TimeSeries\n",
    "    - `static_scaler` on its static covariates\n",
    "    \"\"\"\n",
    "\n",
    "    def __init__(self, ts_scaler, static_scaler, name=\"DualScaler\"):\n",
    "        super().__init__(name=name)\n",
    "        self._ts_scaler = ts_scaler\n",
    "        self._static_scaler = static_scaler\n",
    "\n",
    "    def ts_fit(self, series: TimeSeries, **kwargs):\n",
    "        \"\"\"\n",
    "        If the scalers are already fitted, we can simply pass here.\n",
    "        Otherwise, you could optionally call self._ts_scaler.fit(series), etc.\n",
    "        \"\"\"\n",
    "        self._ts_scaler.fit(series)\n",
    "        if series[0].static_covariates is not None:\n",
    "            self._static_scaler.fit(series)\n",
    "        return self\n",
    "\n",
    "    def ts_transform(self, series: TimeSeries, in_place: bool = False, **kwargs) -> TimeSeries:\n",
    "        \"\"\"\n",
    "        Apply ts_scaler to the time series data, and static_scaler to the static covariates.\n",
    "        \"\"\"\n",
    "        #s = series if in_place else series.copy()\n",
    "\n",
    "        # 1) Transform the sequential (time-indexed) part\n",
    "        series = self._ts_scaler.transform(series)\n",
    "\n",
    "        # 2) Transform the static covariates\n",
    "        if series[0].static_covariates is not None:\n",
    "            series = self._static_scaler.transform(series)\n",
    "\n",
    "        return series\n",
    "\n",
    "    def ts_inverse_transform(self, series: TimeSeries, in_place: bool = False, **kwargs) -> TimeSeries:\n",
    "        \"\"\"\n",
    "        Inverse-transform the sequential data and static covariates.\n",
    "        \"\"\"\n",
    "        #s = series if in_place else series.copy()\n",
    "\n",
    "        # 1) Invert the sequential part\n",
    "        series = self._ts_scaler.inverse_transform(series)\n",
    "\n",
    "        # 2) Invert the static covariates\n",
    "        if series[0].static_covariates is not None:\n",
    "            series = self._static_scaler.inverse_transform(series)\n",
    "\n",
    "        return series"
   ]
  },
  {
   "cell_type": "code",
   "execution_count": 4,
   "metadata": {},
   "outputs": [],
   "source": [
    "store_scalers = {}\n",
    "\n",
    "train_series_store = {}\n",
    "val_series_store = {}\n",
    "forecast_series_store = {}\n",
    "test_series_store = {}\n",
    "future_covs_store = {}\n",
    "series_store = {}\n",
    "\n",
    "skipped_count = 0\n",
    "MIN_TRAIN_LENGTH = 150# for example\n",
    "\n",
    "for store_id, product_series_list in store_series_dict.items():\n",
    "    # Preprocess data \n",
    "    # Split into train/val (last 28 days for validation)\n",
    "    train_series = []\n",
    "    val_series = []\n",
    "    test_series = []\n",
    "    forecast_series = []\n",
    "    future_covariates = []\n",
    "    series = []\n",
    "\n",
    "    for target, covs in product_series_list:\n",
    "        if len(target) < MIN_TRAIN_LENGTH:\n",
    "            skipped_count+=1\n",
    "            continue\n",
    "        train_target = target[:-112].astype(np.float32)\n",
    "        val_target = target[-112:-28].astype(np.float32)\n",
    "        test_target = target[-28:].astype(np.float32)  \n",
    "        forecast_target = target[:-28].astype(np.float32)\n",
    "        series_target = target.astype(np.float32)\n",
    "\n",
    "        train_series.append(train_target)\n",
    "        val_series.append(val_target)\n",
    "        test_series.append(test_target)\n",
    "        forecast_series.append(forecast_target)\n",
    "        future_covariates.append(covs.astype(np.float32))\n",
    "        series.append(series_target)\n",
    "\n",
    "    train_series_store[store_id] = train_series\n",
    "    val_series_store[store_id]= val_series\n",
    "    forecast_series_store[store_id] = forecast_series\n",
    "    test_series_store[store_id] = test_series\n",
    "    future_covs_store[store_id] = future_covariates\n",
    "    series_store[store_id] = series\n",
    "    # Scale target and covariates\n",
    "    scaler_target = Scaler()\n",
    "    scaler_covs = Scaler()\n",
    "    static_scaler = StaticCovariatesTransformer()\n",
    "\n",
    "    dual_transformer = DualScaler(\n",
    "    ts_scaler=scaler_target,   # your main time-series scaler\n",
    "    static_scaler=static_scaler  # your static covariates scaler\n",
    ")\n",
    "    \n",
    "    \n",
    "    dual_transformer.ts_fit(train_series)\n",
    "    #val_series_scaled = scaler_target.transform(val_series)\n",
    "\n",
    "    scaler_covs.fit(future_covariates)\n",
    "\n",
    "    #val_series_scaled = static_scaler.transform(val_series_scaled)\n",
    "    # Store scalers for inverse transformation later\n",
    "    store_scalers[store_id] = {\n",
    "        'dual_target': dual_transformer,\n",
    "        'covariates': scaler_covs,\n",
    "    }"
   ]
  },
  {
   "cell_type": "markdown",
   "metadata": {},
   "source": [
    "# 1st Model"
   ]
  },
  {
   "cell_type": "markdown",
   "metadata": {},
   "source": [
    "Only training for CA_2"
   ]
  },
  {
   "cell_type": "code",
   "execution_count": 7,
   "metadata": {},
   "outputs": [],
   "source": [
    "from darts.models import LightGBMModel\n",
    "\n",
    "model_1 = LightGBMModel(\n",
    "    # Choose your lags (number of past timesteps to use). For example:\n",
    "        lags=28,  # or range(1,29) if you want t-1 to t-28\n",
    "        #lags_past_covariates=28,\n",
    "        lags_future_covariates=list(range(-28,0)),\n",
    "        # All LightGBM hyperparams:\n",
    "        boosting_type=\"gbdt\",\n",
    "        objective=\"tweedie\",\n",
    "        tweedie_variance_power=1.1,\n",
    "        metric=\"rmse\",\n",
    "        n_jobs=-1,\n",
    "        random_state=42,  # \"seed\" is deprecated in newer LightGBM; use random_state\n",
    "        learning_rate=0.2,\n",
    "        bagging_fraction=0.85,\n",
    "        bagging_freq=1,\n",
    "        colsample_bytree=0.85,    # or \"feature_fraction=0.85\" is also valid\n",
    "        colsample_bynode=0.85,    # or \"feature_fraction_bynode=0.85\"\n",
    "        lambda_l1=0.5,\n",
    "        lambda_l2=0.5,\n",
    "        verbose = -1,\n",
    ")"
   ]
  },
  {
   "cell_type": "code",
   "execution_count": null,
   "metadata": {},
   "outputs": [],
   "source": [
    "train_series_ca2 = store_scalers[\"CA_2\"]['dual_target'].ts_transform(train_series_store[\"CA_2\"])\n",
    "future_covs_ca2 = store_scalers[\"CA_2\"]['covariates'].transform(future_covs_store[\"CA_2\"])"
   ]
  },
  {
   "cell_type": "code",
   "execution_count": 9,
   "metadata": {},
   "outputs": [
    {
     "data": {
      "text/plain": [
       "LightGBMModel(lags=28, lags_past_covariates=None, lags_future_covariates=[-28, -27, -26, -25, -24, -23, -22, -21, -20, -19, -18, -17, -16, -15, -14, -13, -12, -11, -10, -9, -8, -7, -6, -5, -4, -3, -2, -1], output_chunk_length=1, output_chunk_shift=0, add_encoders=None, likelihood=None, quantiles=None, random_state=42, multi_models=True, use_static_covariates=True, categorical_past_covariates=None, categorical_future_covariates=None, categorical_static_covariates=None, boosting_type=gbdt, objective=tweedie, tweedie_variance_power=1.1, metric=rmse, n_jobs=-1, learning_rate=0.2, bagging_fraction=0.85, bagging_freq=1, colsample_bytree=0.85, colsample_bynode=0.85, lambda_l1=0.5, lambda_l2=0.5, verbose=-1)"
      ]
     },
     "execution_count": 9,
     "metadata": {},
     "output_type": "execute_result"
    }
   ],
   "source": [
    "model_1.fit(\n",
    "        series=train_series_ca2,\n",
    "        future_covariates=future_covs_ca2,\n",
    "        #val_series=val_series_store[\"CA_2\"],\n",
    "        #val_future_covariates=future_covs_store[\"CA_2\"],\n",
    "    )"
   ]
  },
  {
   "cell_type": "code",
   "execution_count": 10,
   "metadata": {},
   "outputs": [],
   "source": [
    "forecast_series_ca2 = store_scalers[\"CA_2\"]['dual_target'].ts_transform(forecast_series_store[\"CA_2\"])"
   ]
  },
  {
   "cell_type": "code",
   "execution_count": 11,
   "metadata": {},
   "outputs": [],
   "source": [
    "forcasts = model_1.predict(\n",
    "                n=28,\n",
    "                series=forecast_series_ca2,\n",
    "                future_covariates=future_covs_ca2\n",
    ")"
   ]
  },
  {
   "cell_type": "code",
   "execution_count": 12,
   "metadata": {},
   "outputs": [],
   "source": [
    "forecast_inverse = store_scalers['CA_2']['dual_target'].ts_inverse_transform(forcasts)"
   ]
  },
  {
   "cell_type": "code",
   "execution_count": 13,
   "metadata": {},
   "outputs": [],
   "source": [
    "from darts.metrics import rmse\n",
    "rmse_list = rmse(test_series_store['CA_2'],forecast_inverse)"
   ]
  },
  {
   "cell_type": "code",
   "execution_count": 14,
   "metadata": {},
   "outputs": [
    {
     "name": "stdout",
     "output_type": "stream",
     "text": [
      "Mean RMSE -> 1.6370193080864468\n"
     ]
    }
   ],
   "source": [
    "print(f\"Mean RMSE -> {np.mean(rmse_list)}\")"
   ]
  },
  {
   "cell_type": "markdown",
   "metadata": {},
   "source": [
    "# 2nd Model\n"
   ]
  },
  {
   "cell_type": "code",
   "execution_count": 26,
   "metadata": {},
   "outputs": [],
   "source": [
    "from darts.models import LightGBMModel\n",
    "\n",
    "model_2 = LightGBMModel(\n",
    "        lags=14,  # or range(1,29) if you want t-1 to t-28\n",
    "        lags_future_covariates=list(range(-14,0)),\n",
    "        n_jobs=-1,\n",
    "        random_state=42,  # \"seed\" is deprecated in newer LightGBM; use random_state\n",
    "        verbose = -1,\n",
    ")"
   ]
  },
  {
   "cell_type": "code",
   "execution_count": 27,
   "metadata": {},
   "outputs": [
    {
     "data": {
      "text/plain": [
       "LightGBMModel(lags=14, lags_past_covariates=None, lags_future_covariates=[-14, -13, -12, -11, -10, -9, -8, -7, -6, -5, -4, -3, -2, -1], output_chunk_length=1, output_chunk_shift=0, add_encoders=None, likelihood=None, quantiles=None, random_state=42, multi_models=True, use_static_covariates=True, categorical_past_covariates=None, categorical_future_covariates=None, categorical_static_covariates=None, n_jobs=-1, verbose=-1)"
      ]
     },
     "execution_count": 27,
     "metadata": {},
     "output_type": "execute_result"
    }
   ],
   "source": [
    "model_2.fit(\n",
    "        series=train_series_ca2,\n",
    "        future_covariates=future_covs_ca2,\n",
    "        #val_series=val_series_store[\"CA_2\"],\n",
    "        #val_future_covariates=future_covs_store[\"CA_2\"],\n",
    "    )"
   ]
  },
  {
   "cell_type": "code",
   "execution_count": 28,
   "metadata": {},
   "outputs": [],
   "source": [
    "forcasts = model_2.predict(\n",
    "                n=28,\n",
    "                series=forecast_series_ca2,\n",
    "                future_covariates=future_covs_ca2\n",
    ")"
   ]
  },
  {
   "cell_type": "code",
   "execution_count": 29,
   "metadata": {},
   "outputs": [],
   "source": [
    "forecast_inverse = store_scalers['CA_2']['target'].inverse_transform(forcasts)"
   ]
  },
  {
   "cell_type": "code",
   "execution_count": 30,
   "metadata": {},
   "outputs": [
    {
     "name": "stdout",
     "output_type": "stream",
     "text": [
      "Mean RMSE -> 1.6506416290885004\n"
     ]
    }
   ],
   "source": [
    "rmse_list = rmse(test_series_store['CA_2'],forecast_inverse)\n",
    "print(f\"Mean RMSE -> {np.mean(rmse_list)}\")"
   ]
  },
  {
   "cell_type": "markdown",
   "metadata": {},
   "source": [
    "# 3rd Model without any Scaling"
   ]
  },
  {
   "cell_type": "code",
   "execution_count": 6,
   "metadata": {},
   "outputs": [],
   "source": [
    "from darts.models import LightGBMModel\n",
    "\n",
    "model_3 = LightGBMModel(\n",
    "    # Choose your lags (number of past timesteps to use). For example:\n",
    "        lags=28,  # or range(1,29) if you want t-1 to t-28\n",
    "        #lags_past_covariates=28,\n",
    "        lags_future_covariates=list(range(-28,0)),\n",
    "        # All LightGBM hyperparams:\n",
    "        boosting_type=\"gbdt\",\n",
    "        objective=\"tweedie\",\n",
    "        tweedie_variance_power=1.1,\n",
    "        metric=\"rmse\",\n",
    "        n_jobs=-1,\n",
    "        random_state=42,  # \"seed\" is deprecated in newer LightGBM; use random_state\n",
    "        learning_rate=0.2,\n",
    "        bagging_fraction=0.85,\n",
    "        bagging_freq=1,\n",
    "        colsample_bytree=0.85,    # or \"feature_fraction=0.85\" is also valid\n",
    "        colsample_bynode=0.85,    # or \"feature_fraction_bynode=0.85\"\n",
    "        lambda_l1=0.5,\n",
    "        lambda_l2=0.5,\n",
    "        verbose = -1,\n",
    "        categorical_static_covariates= [\"item_id\", \"dept_id\", \"cat_id\"]\n",
    "        \n",
    ")"
   ]
  },
  {
   "cell_type": "code",
   "execution_count": 7,
   "metadata": {},
   "outputs": [],
   "source": [
    "train_series_ca2 = store_scalers[\"CA_2\"]['static'].transform(train_series_store[\"CA_2\"])\n",
    "#future_covs_ca2 = store_scalers[\"CA_2\"]['covariates'].transform(future_covs_store[\"CA_2\"])"
   ]
  },
  {
   "cell_type": "code",
   "execution_count": 8,
   "metadata": {},
   "outputs": [
    {
     "data": {
      "text/plain": [
       "LightGBMModel(lags=28, lags_past_covariates=None, lags_future_covariates=[-28, -27, -26, -25, -24, -23, -22, -21, -20, -19, -18, -17, -16, -15, -14, -13, -12, -11, -10, -9, -8, -7, -6, -5, -4, -3, -2, -1], output_chunk_length=1, output_chunk_shift=0, add_encoders=None, likelihood=None, quantiles=None, random_state=42, multi_models=True, use_static_covariates=True, categorical_past_covariates=None, categorical_future_covariates=None, categorical_static_covariates=['item_id', 'dept_id', 'cat_id'], boosting_type=gbdt, objective=tweedie, tweedie_variance_power=1.1, metric=rmse, n_jobs=-1, learning_rate=0.2, bagging_fraction=0.85, bagging_freq=1, colsample_bytree=0.85, colsample_bynode=0.85, lambda_l1=0.5, lambda_l2=0.5, verbose=-1)"
      ]
     },
     "execution_count": 8,
     "metadata": {},
     "output_type": "execute_result"
    }
   ],
   "source": [
    "model_3.fit(\n",
    "        series=train_series_ca2,\n",
    "        future_covariates=future_covs_store[\"CA_2\"],\n",
    "        #val_series=val_series_store[\"CA_2\"],\n",
    "        #val_future_covariates=future_covs_store[\"CA_2\"],\n",
    "    )"
   ]
  },
  {
   "cell_type": "code",
   "execution_count": 10,
   "metadata": {},
   "outputs": [],
   "source": [
    "forecast_series_ca2 = store_scalers[\"CA_2\"]['static'].transform(forecast_series_store[\"CA_2\"])"
   ]
  },
  {
   "cell_type": "code",
   "execution_count": 11,
   "metadata": {},
   "outputs": [],
   "source": [
    "forcasts = model_3.predict(\n",
    "                n=28,\n",
    "                series=forecast_series_ca2,\n",
    "                future_covariates=future_covs_store[\"CA_2\"],\n",
    ")"
   ]
  },
  {
   "cell_type": "code",
   "execution_count": 12,
   "metadata": {},
   "outputs": [
    {
     "name": "stdout",
     "output_type": "stream",
     "text": [
      "Mean RMSE -> 1.632618284239394\n"
     ]
    }
   ],
   "source": [
    "from darts.metrics import rmse\n",
    "rmse_list = rmse(test_series_store['CA_2'],forcasts)\n",
    "print(f\"Mean RMSE -> {np.mean(rmse_list)}\")"
   ]
  },
  {
   "cell_type": "markdown",
   "metadata": {},
   "source": [
    "# 4th Model using categorical with Scaling "
   ]
  },
  {
   "cell_type": "code",
   "execution_count": 5,
   "metadata": {},
   "outputs": [],
   "source": [
    "from darts.models import LightGBMModel\n",
    "from darts.metrics import mse\n",
    "model_4 = LightGBMModel(\n",
    "    # Choose your lags (number of past timesteps to use). For example:\n",
    "        lags=28,  # or range(1,29) if you want t-1 to t-28\n",
    "        #lags_past_covariates=28,\n",
    "        lags_future_covariates=list(range(-28,0)),\n",
    "        # All LightGBM hyperparams:\n",
    "        boosting_type=\"gbdt\",\n",
    "        objective=\"tweedie\",\n",
    "        tweedie_variance_power=1.1,\n",
    "        metric='mse',\n",
    "        n_jobs=-1,\n",
    "        random_state=42,  # \"seed\" is deprecated in newer LightGBM; use random_state\n",
    "        learning_rate=0.2,\n",
    "        bagging_fraction=0.85,\n",
    "        bagging_freq=1,\n",
    "        colsample_bytree=0.85,    # or \"feature_fraction=0.85\" is also valid\n",
    "        colsample_bynode=0.85,    # or \"feature_fraction_bynode=0.85\"\n",
    "        lambda_l1=0.5,\n",
    "        lambda_l2=0.5,\n",
    "        verbose = -1,\n",
    "        categorical_future_covariates = [#\"tm_d\",\"tm_m\",\"tm_y\", \"tm_w_end\", \"tm_dw\", \"tm_wm\",\n",
    "                                    \"event_name_1_enc\", \"event_type_1_enc\", \"event_name_2_enc\", \"event_type_2_enc\"],\n",
    "        categorical_static_covariates= [\"item_id\", \"dept_id\", \"cat_id\"]\n",
    "        \n",
    ")"
   ]
  },
  {
   "cell_type": "code",
   "execution_count": 6,
   "metadata": {},
   "outputs": [],
   "source": [
    "train_series_ca2 = store_scalers[\"CA_2\"]['dual_target'].ts_transform(train_series_store[\"CA_2\"])\n",
    "future_covs_ca2 = store_scalers[\"CA_2\"]['covariates'].transform(future_covs_store[\"CA_2\"])"
   ]
  },
  {
   "cell_type": "code",
   "execution_count": 7,
   "metadata": {},
   "outputs": [
    {
     "data": {
      "text/plain": [
       "LightGBMModel(lags=28, lags_past_covariates=None, lags_future_covariates=[-28, -27, -26, -25, -24, -23, -22, -21, -20, -19, -18, -17, -16, -15, -14, -13, -12, -11, -10, -9, -8, -7, -6, -5, -4, -3, -2, -1], output_chunk_length=1, output_chunk_shift=0, add_encoders=None, likelihood=None, quantiles=None, random_state=42, multi_models=True, use_static_covariates=True, categorical_past_covariates=None, categorical_future_covariates=['event_name_1_enc', 'event_type_1_enc', 'event_name_2_enc', 'event_type_2_enc'], categorical_static_covariates=['item_id', 'dept_id', 'cat_id'], boosting_type=gbdt, objective=tweedie, tweedie_variance_power=1.1, metric=mse, n_jobs=-1, learning_rate=0.2, bagging_fraction=0.85, bagging_freq=1, colsample_bytree=0.85, colsample_bynode=0.85, lambda_l1=0.5, lambda_l2=0.5, verbose=-1)"
      ]
     },
     "execution_count": 7,
     "metadata": {},
     "output_type": "execute_result"
    }
   ],
   "source": [
    "model_4.fit(\n",
    "        series=train_series_ca2,\n",
    "        future_covariates=future_covs_ca2,\n",
    "        #val_series=val_series_store[\"CA_2\"],\n",
    "        #val_future_covariates=future_covs_store[\"CA_2\"],\n",
    "    )"
   ]
  },
  {
   "cell_type": "code",
   "execution_count": 8,
   "metadata": {},
   "outputs": [],
   "source": [
    "forecast_series_ca2 = store_scalers[\"CA_2\"]['dual_target'].ts_transform(forecast_series_store[\"CA_2\"])"
   ]
  },
  {
   "cell_type": "code",
   "execution_count": 9,
   "metadata": {},
   "outputs": [],
   "source": [
    "forcasts = model_4.predict(\n",
    "                n=28,\n",
    "                series=forecast_series_ca2,\n",
    "                future_covariates=future_covs_ca2\n",
    ")"
   ]
  },
  {
   "cell_type": "code",
   "execution_count": 17,
   "metadata": {},
   "outputs": [],
   "source": [
    "from darts.metrics import rmse,mae"
   ]
  },
  {
   "cell_type": "code",
   "execution_count": 11,
   "metadata": {},
   "outputs": [],
   "source": [
    "forecast_inverse = store_scalers['CA_2']['dual_target'].ts_inverse_transform(forcasts)"
   ]
  },
  {
   "cell_type": "code",
   "execution_count": 12,
   "metadata": {},
   "outputs": [
    {
     "name": "stdout",
     "output_type": "stream",
     "text": [
      "Mean RMSE -> 1.631751335216687\n"
     ]
    }
   ],
   "source": [
    "\n",
    "\n",
    "rmse_list = rmse(test_series_store['CA_2'],forecast_inverse)\n",
    "print(f\"Mean RMSE -> {np.mean(rmse_list)}\")"
   ]
  },
  {
   "cell_type": "code",
   "execution_count": 18,
   "metadata": {},
   "outputs": [
    {
     "name": "stdout",
     "output_type": "stream",
     "text": [
      "Mean mae_list -> 1.265607309626463\n"
     ]
    }
   ],
   "source": [
    "mae_list = mae(test_series_store['CA_2'],forecast_inverse)\n",
    "print(f\"Mean mae_list -> {np.mean(mae_list)}\")"
   ]
  },
  {
   "cell_type": "markdown",
   "metadata": {},
   "source": []
  },
  {
   "cell_type": "markdown",
   "metadata": {},
   "source": [
    "Lets implement backtest on model4"
   ]
  },
  {
   "cell_type": "code",
   "execution_count": 13,
   "metadata": {},
   "outputs": [
    {
     "name": "stdout",
     "output_type": "stream",
     "text": [
      "Covariates Transformer: DualScaler\n",
      "Type: <class '__main__.DualScaler'>\n"
     ]
    }
   ],
   "source": [
    "covar_t = store_scalers[\"CA_2\"][\"dual_target\"]\n",
    "print(\"Covariates Transformer:\", covar_t)\n",
    "print(\"Type:\", type(covar_t))\n"
   ]
  },
  {
   "cell_type": "code",
   "execution_count": 14,
   "metadata": {},
   "outputs": [
    {
     "name": "stdout",
     "output_type": "stream",
     "text": [
      "False\n",
      "None\n"
     ]
    }
   ],
   "source": [
    "\n",
    "dual_transformer = store_scalers[\"CA_2\"][\"dual_target\"]\n",
    "print(dual_transformer._fit_called)  # if needed\n",
    "\n",
    "covar_scaler = store_scalers[\"CA_2\"][\"dual_target\"]\n",
    "print(covar_scaler._fitted_params    )   # if needed"
   ]
  },
  {
   "cell_type": "code",
   "execution_count": 22,
   "metadata": {},
   "outputs": [
    {
     "name": "stderr",
     "output_type": "stream",
     "text": [
      "`enable_optimization=True` is ignored because `forecast_horizon > model.output_chunk_length`. To hide this warning, set `show_warnings=False` or `enable_optimization=False`.\n"
     ]
    },
    {
     "data": {
      "application/vnd.jupyter.widget-view+json": {
       "model_id": "9ce40d96bd354bd9bddcd4041a103485",
       "version_major": 2,
       "version_minor": 0
      },
      "text/plain": [
       "historical forecasts:   0%|          | 0/3047 [00:00<?, ?it/s]"
      ]
     },
     "metadata": {},
     "output_type": "display_data"
    },
    {
     "name": "stdout",
     "output_type": "stream",
     "text": [
      "MAE on scaled data: [np.float64(0.07060665527091402), np.float64(0.10501910723958015), np.float64(0.1022704458602972), np.float64(0.046927218882032835), np.float64(0.09431467914832695), np.float64(0.04995073911470467), np.float64(0.12313058657850895), np.float64(0.08205713106657776), np.float64(0.05787099458112686), np.float64(0.04581162061648535), np.float64(0.1639611116191664), np.float64(0.08669928448140332), np.float64(0.040488201713975505), np.float64(0.04254107908036907), np.float64(0.08698358045041735), np.float64(0.11128669765477422), np.float64(0.06342136716039748), np.float64(0.09315238243492137), np.float64(0.0489107042909979), np.float64(0.045069906091840674), np.float64(0.05937334272671016), np.float64(0.12516218327967005), np.float64(0.07231004960243126), np.float64(0.086333359764602), np.float64(0.05594300995799841), np.float64(0.05007533822873785), np.float64(0.027830579696027948), np.float64(0.027708270496696632), np.float64(0.02309060226925481), np.float64(0.09252851328843216), np.float64(0.039132556894980144), np.float64(0.052558750455557066), np.float64(0.1684105933009145), np.float64(0.10313074160199073), np.float64(0.11668061914370373), np.float64(0.03877754242191144), np.float64(0.09548510399948235), np.float64(0.033371637289720146), np.float64(0.08450219663938661), np.float64(0.09353143647741054), np.float64(0.10537591250803026), np.float64(0.04734453072895582), np.float64(0.03436361853228023), np.float64(0.12238159923228173), np.float64(0.07755380926851103), np.float64(0.06459593895137052), np.float64(0.11844733768577125), np.float64(0.07523567054034185), np.float64(0.07905229744433888), np.float64(0.08453048763040238), np.float64(0.08093503336696607), np.float64(0.15210884264758268), np.float64(0.09947297564005947), np.float64(0.03560568964888743), np.float64(0.07252739429074438), np.float64(0.09248246312504436), np.float64(0.06725201890527115), np.float64(0.19675046997908396), np.float64(0.08273768870152558), np.float64(0.09520955636640524), np.float64(0.04893926674218662), np.float64(0.017236746624228), np.float64(0.07068188527016955), np.float64(0.06997345500759695), np.float64(0.07685603639863714), np.float64(0.05862947324448406), np.float64(0.0519219755553627), np.float64(0.0594575805468219), np.float64(0.0846834062868376), np.float64(0.11731362576090265), np.float64(0.08522288215571691), np.float64(0.0686510567466878), np.float64(0.10765434981526055), np.float64(0.016924748021526607), np.float64(0.11865379149210106), np.float64(0.07812239002654864), np.float64(0.05631066333628289), np.float64(0.02094135252880529), np.float64(0.14790748209307564), np.float64(0.12065598215004773), np.float64(0.14079749439810685), np.float64(0.09047299735016125), np.float64(0.0751164860214082), np.float64(0.08786364536390887), np.float64(0.07346448964282463), np.float64(0.14413636460017923), np.float64(0.060401807091193874), np.float64(0.11023737411000041), np.float64(0.045789266423189666), np.float64(0.07130275725078934), np.float64(0.09365651497138809), np.float64(0.15893623232934795), np.float64(0.09811698730602612), np.float64(0.03738261863732044), np.float64(0.08420173574886711), np.float64(0.10990958333375571), np.float64(0.06831214090876565), np.float64(0.15058758257193133), np.float64(0.09364462416608994), np.float64(0.025410649361932297), np.float64(0.031405232347572754), np.float64(0.09238047534221741), np.float64(0.026421894994232177), np.float64(0.08613886388781132), np.float64(0.07373014041977984), np.float64(0.07884938939990947), np.float64(0.06446782691051187), np.float64(0.0859970904275894), np.float64(0.15568706392574794), np.float64(0.072361240955381), np.float64(0.08539571520353027), np.float64(0.01525323271981773), np.float64(0.08621013608676184), np.float64(0.05090949960980701), np.float64(0.07030436077304643), np.float64(0.09814918766293204), np.float64(0.0564445075000331), np.float64(0.04069827252262296), np.float64(0.05697862126122692), np.float64(0.22851881302432805), np.float64(0.07594175530863392), np.float64(0.07805572014401958), np.float64(0.15175286665743665), np.float64(0.06007291522709276), np.float64(0.0664329251317239), np.float64(0.06426394187398922), np.float64(0.07822908028402022), np.float64(0.07158278385356563), np.float64(0.086222310001903), np.float64(0.06325089950570037), np.float64(0.006809496337915255), np.float64(0.10042082616992883), np.float64(0.053694087563891595), np.float64(0.059197361386062804), np.float64(0.050526573462046136), np.float64(0.040959875371234696), np.float64(0.09570992591949011), np.float64(0.06602113592498858), np.float64(0.023758299985466105), np.float64(0.08344318543434853), np.float64(0.09171433447009333), np.float64(0.07534113106244907), np.float64(0.08360952198736615), np.float64(0.0804599654174992), np.float64(0.14299904592079196), np.float64(0.05419544652050472), np.float64(0.09065675533105821), np.float64(0.07396413379552456), np.float64(0.015349705122293136), np.float64(0.044062558810573235), np.float64(0.1276907023681983), np.float64(0.11603198630504125), np.float64(0.056578935109669715), np.float64(0.09663771375024763), np.float64(0.08058733713535927), np.float64(0.0921310215516563), np.float64(0.06781344499470375), np.float64(0.21346902851442534), np.float64(0.07790071993046528), np.float64(0.06150325474052131), np.float64(0.10071941220677041), np.float64(0.09912765458491737), np.float64(0.1058233984878633), np.float64(0.08708424577226578), np.float64(0.04300701531396739), np.float64(0.017742412364522498), np.float64(0.1587059583572216), np.float64(0.1188104012070523), np.float64(0.1120161048099546), np.float64(0.05903682509544259), np.float64(0.04980458557029237), np.float64(0.058958698311878804), np.float64(0.016201490090210983), np.float64(0.0766449520132137), np.float64(0.0761314829546763), np.float64(0.058719051110478704), np.float64(0.03187184953967489), np.float64(0.08028104668642272), np.float64(0.08235893967170967), np.float64(0.05162426928237905), np.float64(0.04403860148104731), np.float64(0.08315628821512329), np.float64(0.1258502290411914), np.float64(0.029330575814567782), np.float64(0.15626070454872837), np.float64(0.05846172079699102), np.float64(0.08485674449655091), np.float64(0.06297553374526967), np.float64(0.09992431281733334), np.float64(0.09221892972428392), np.float64(0.06270363452214878), np.float64(0.06584112089593555), np.float64(0.07035093836398688), np.float64(0.06676901472050359), np.float64(0.07049470612565563), np.float64(0.08149877191246031), np.float64(0.12979798292993963), np.float64(0.0642297565443541), np.float64(0.0622133244564027), np.float64(0.058242185014396104), np.float64(0.08632563554617873), np.float64(0.15001662035590105), np.float64(0.005315110085492843), np.float64(0.07016241783644578), np.float64(0.0728561137817461), np.float64(0.07604296137551332), np.float64(0.06864153160577802), np.float64(0.04851945131037625), np.float64(0.13860103632065277), np.float64(0.09163289731426272), np.float64(0.14735755953407195), np.float64(0.1352264568726073), np.float64(0.06809791974240348), np.float64(0.07311198007327632), np.float64(0.06330263297433654), np.float64(0.09022190972821535), np.float64(0.17177705162509452), np.float64(0.22266738330184574), np.float64(0.171311913047124), np.float64(0.1961507900557811), np.float64(0.17610761884508866), np.float64(0.2623648117244187), np.float64(0.12208984655694918), np.float64(0.11645663459365004), np.float64(0.13908626705363455), np.float64(0.19396774469589698), np.float64(0.1636391794510203), np.float64(0.1108482191089933), np.float64(0.10758659528318822), np.float64(0.12320424825594765), np.float64(0.1694969784393543), np.float64(0.20048300010736833), np.float64(0.16286907399602427), np.float64(0.10219671964449376), np.float64(0.15084203961687392), np.float64(0.25081950776051337), np.float64(0.14872639144494532), np.float64(0.18319815904750172), np.float64(0.14106479287572504), np.float64(0.12379390562566388), np.float64(0.08493975255016879), np.float64(0.1282096700889525), np.float64(0.06851433396419093), np.float64(0.13356023186441593), np.float64(0.16310123391735543), np.float64(0.19471461369495457), np.float64(0.11838658979004624), np.float64(0.14998495444284174), np.float64(0.11959421407096536), np.float64(0.11517516715124798), np.float64(0.17731450962105513), np.float64(0.15470750632069494), np.float64(0.20911483132481465), np.float64(0.23414491006412186), np.float64(0.13393827678201894), np.float64(0.12229895042615886), np.float64(0.1417577871829773), np.float64(0.04792255525955008), np.float64(0.1074589032764097), np.float64(0.16839049101135367), np.float64(0.2559546531412106), np.float64(0.16145098207736452), np.float64(0.1324527588210876), np.float64(0.14504731722126368), np.float64(0.1891951546428983), np.float64(0.19011291863928786), np.float64(0.21387308094542296), np.float64(0.07369868025118553), np.float64(0.18250348033510624), np.float64(0.15066220001644245), np.float64(0.20466357551650927), np.float64(0.08127676630968714), np.float64(0.19365309360513833), np.float64(0.11785611422732072), np.float64(0.14396407784493082), np.float64(0.12647067961291011), np.float64(0.10342571953944651), np.float64(0.12692877190300908), np.float64(0.07912435773452123), np.float64(0.07887536198281254), np.float64(0.23239675682579905), np.float64(0.16693534207732913), np.float64(0.06689055273515676), np.float64(0.13349411309504675), np.float64(0.16138505760535274), np.float64(0.13012448881371377), np.float64(0.19507427468423902), np.float64(0.1682001679810323), np.float64(0.14379462342932672), np.float64(0.15870921329889148), np.float64(0.14967948654239102), np.float64(0.16068020138849903), np.float64(0.2482004898192732), np.float64(0.19920860552024408), np.float64(0.08067383924732789), np.float64(0.18829322380964314), np.float64(0.1778933226383283), np.float64(0.16167100222184222), np.float64(0.1798661965867737), np.float64(0.2812897698446143), np.float64(0.21032865907189283), np.float64(0.20633083793460238), np.float64(0.16951452145008802), np.float64(0.18307286760217764), np.float64(0.20284203850578603), np.float64(0.1539150637622872), np.float64(0.16631871940176257), np.float64(0.18312427651589677), np.float64(0.11001536495211464), np.float64(0.12570732797175926), np.float64(0.16577590534668568), np.float64(0.16870585950505643), np.float64(0.19416249592902893), np.float64(0.1542099043924618), np.float64(0.17056613472487556), np.float64(0.14904279882046695), np.float64(0.2955694624645835), np.float64(0.1436915805409978), np.float64(0.13505211200871467), np.float64(0.1970021745863967), np.float64(0.09476471404715252), np.float64(0.1940759116363407), np.float64(0.23009290112835346), np.float64(0.10066392959665914), np.float64(0.13246860451736345), np.float64(0.12980625886850564), np.float64(0.18257087824265208), np.float64(0.2468644502832966), np.float64(0.14899407387689118), np.float64(0.26329233342281777), np.float64(0.10741672335809928), np.float64(0.3486171518777216), np.float64(0.28298109671724475), np.float64(0.13585210109522602), np.float64(0.14511232864664889), np.float64(0.12780516556468632), np.float64(0.241613399554576), np.float64(0.161096123785016), np.float64(0.198392524221516), np.float64(0.15182835666354402), np.float64(0.22376114522764967), np.float64(0.17159071491243252), np.float64(0.1474592079893222), np.float64(0.1206144415297532), np.float64(0.18054204778285274), np.float64(0.1464761589239634), np.float64(0.18284085006051118), np.float64(0.20354836295609058), np.float64(0.1876267222881942), np.float64(0.0980985529644713), np.float64(0.2331332269453376), np.float64(0.12054264842081877), np.float64(0.1280445806458889), np.float64(0.1649351936866479), np.float64(0.15160220908225566), np.float64(0.24152603701457634), np.float64(0.15400275253450937), np.float64(0.1433186410129106), np.float64(0.19147320069753357), np.float64(0.12157297591384439), np.float64(0.1230750345744754), np.float64(0.18988398469937504), np.float64(0.12742178686525216), np.float64(0.1249527553620156), np.float64(0.16165111636882243), np.float64(0.22651184576199085), np.float64(0.12141706735686805), np.float64(0.07395988321979817), np.float64(0.14354651865385937), np.float64(0.09723838271524836), np.float64(0.10403792676675379), np.float64(0.13081732180166228), np.float64(0.08451529255739361), np.float64(0.18801735322569044), np.float64(0.21120894893195227), np.float64(0.17718343906804146), np.float64(0.17720502517500256), np.float64(0.17985083154372272), np.float64(0.11475510691095865), np.float64(0.10096384599490715), np.float64(0.04005019196824843), np.float64(0.14130977975973388), np.float64(0.3122805578990408), np.float64(0.11414081669228249), np.float64(0.08851435984776819), np.float64(0.12013429562221999), np.float64(0.22169128336969623), np.float64(0.15516653938267494), np.float64(0.05485303197299194), np.float64(0.1433407700842806), np.float64(0.12926489415027576), np.float64(0.1483525275457573), np.float64(0.061930040870172585), np.float64(0.17257568158515205), np.float64(0.15285722744567593), np.float64(0.12531545933669036), np.float64(0.14665722633333625), np.float64(0.18193477562210458), np.float64(0.16308834615907242), np.float64(0.10798581960335543), np.float64(0.2922460906789272), np.float64(0.16846312982689735), np.float64(0.10561665964806327), np.float64(0.06340228904510478), np.float64(0.192937540869065), np.float64(0.20588641513333622), np.float64(0.21510968724477636), np.float64(0.2561129488297513), np.float64(0.2182534259401055), np.float64(0.16238813562915197), np.float64(0.21148775559898042), np.float64(0.0909205085696545), np.float64(0.17016217848562692), np.float64(0.16307165347315664), np.float64(0.16648237471953525), np.float64(0.2512895979185914), np.float64(0.12194304065544166), np.float64(0.137992402083533), np.float64(0.16520305428718343), np.float64(0.050483978490133224), np.float64(0.19885696339857797), np.float64(0.171681303730206), np.float64(0.06305757287418494), np.float64(0.27407755609549356), np.float64(0.08055966256171503), np.float64(0.08110646497271946), np.float64(0.24898326161380266), np.float64(0.14947490959862625), np.float64(0.087147915752215), np.float64(0.14367113956815486), np.float64(0.18820042560012679), np.float64(0.22311182297066603), np.float64(0.09468623588437956), np.float64(0.21010871460732475), np.float64(0.2643688452037603), np.float64(0.20081208743644868), np.float64(0.12192772438583573), np.float64(0.268118721990596), np.float64(0.10400514803779239), np.float64(0.1798878661028197), np.float64(0.20067928087868608), np.float64(0.15801984794668714), np.float64(0.1888209578733907), np.float64(0.04518545587449414), np.float64(0.1116031318497083), np.float64(0.03742726262767891), np.float64(0.09924389747419393), np.float64(0.14598239478425104), np.float64(0.06334904366768936), np.float64(0.10420510170176102), np.float64(0.15016504105841175), np.float64(0.179970442514434), np.float64(0.15149992388579006), np.float64(0.12175209498436215), np.float64(0.042371063353130414), np.float64(0.12466555225085799), np.float64(0.223251049512698), np.float64(0.2054266259464282), np.float64(0.09597475052855985), np.float64(0.20555605223448875), np.float64(0.1205235286080335), np.float64(0.09878618253837215), np.float64(0.24981384266728796), np.float64(0.17957130188148887), np.float64(0.33081704378322463), np.float64(0.11865537391680453), np.float64(0.125241839800475), np.float64(0.19788508844684585), np.float64(0.1924973896951847), np.float64(0.026462133946764825), np.float64(0.17784428636950117), np.float64(0.12381316304271464), np.float64(0.11210224756888477), np.float64(0.2201227207256625), np.float64(0.16123561284320154), np.float64(0.1816726001470543), np.float64(0.2131504098125231), np.float64(0.1055595951253644), np.float64(0.18438542031992222), np.float64(0.1735060654262684), np.float64(0.22118049564261275), np.float64(0.21248914044273912), np.float64(0.12448611048495349), np.float64(0.09936460186297265), np.float64(0.1232778718837812), np.float64(0.19843473481340468), np.float64(0.21940726236221866), np.float64(0.0925771155586776), np.float64(0.12191221267670965), np.float64(0.13626811229391592), np.float64(0.04963414525729522), np.float64(0.07994390633387324), np.float64(0.21178151425836345), np.float64(0.16411173255244588), np.float64(0.19881623943582855), np.float64(0.2618560154408569), np.float64(0.17073915621536628), np.float64(0.14465865211704348), np.float64(0.12204139116308256), np.float64(0.08697076193808707), np.float64(0.21772733626828145), np.float64(0.12163628687828669), np.float64(0.10357988652026115), np.float64(0.10222992324708728), np.float64(0.20973320725134625), np.float64(0.0659616945087142), np.float64(0.11424435349684318), np.float64(0.17523573220068014), np.float64(0.15286218246408917), np.float64(0.20420285815548705), np.float64(0.15143198068310776), np.float64(0.13038464936129926), np.float64(0.11846158968243242), np.float64(0.1520834962389668), np.float64(0.1532296681295518), np.float64(0.3255026088453021), np.float64(0.15365439637926429), np.float64(0.10000296256603174), np.float64(0.05069164395348884), np.float64(0.18942808972862044), np.float64(0.16914678307820735), np.float64(0.1744377372042962), np.float64(0.1301647408868604), np.float64(0.19073444649927027), np.float64(0.21107994565310062), np.float64(0.1389188510216814), np.float64(0.180008690459945), np.float64(0.11482920799989252), np.float64(0.19835593678672198), np.float64(0.10176116242289901), np.float64(0.26127500722360086), np.float64(0.08938742740793994), np.float64(0.15671524655783967), np.float64(0.13839840851579188), np.float64(0.08749457885053716), np.float64(0.2015032129912487), np.float64(0.13665085111292213), np.float64(0.26596306688858734), np.float64(0.06508972476523756), np.float64(0.17091246046415007), np.float64(0.17731773984109644), np.float64(0.18572684633331502), np.float64(0.14000906155277426), np.float64(0.21633155137363067), np.float64(0.09380424329723674), np.float64(0.07283966967670852), np.float64(0.11686104378588923), np.float64(0.07336508522725539), np.float64(0.26086802040320733), np.float64(0.18899810087955957), np.float64(0.08238765047146389), np.float64(0.19188396084389342), np.float64(0.199470441214576), np.float64(0.0762111679787409), np.float64(0.19017212943806602), np.float64(0.09878109931725275), np.float64(0.13916169450427268), np.float64(0.1688269605543938), np.float64(0.20371737110160365), np.float64(0.2258805511011738), np.float64(0.10080213689203806), np.float64(0.14384421569625852), np.float64(0.1203422770784955), np.float64(0.1302967205872461), np.float64(0.12099350779590683), np.float64(0.16742941023656), np.float64(0.1657142295707405), np.float64(0.09565585402858819), np.float64(0.17326761352111827), np.float64(0.17073060212974545), np.float64(0.09647337286567956), np.float64(0.17049651862733278), np.float64(0.12459318404041858), np.float64(0.16382253901546068), np.float64(0.12090788262899667), np.float64(0.08815449786143012), np.float64(0.3149731673051433), np.float64(0.10916763616311646), np.float64(0.16361933410337526), np.float64(0.18028086814864777), np.float64(0.1715556456959289), np.float64(0.1968307925641503), np.float64(0.06120266178487549), np.float64(0.14550659201641886), np.float64(0.10165273303774351), np.float64(0.11852363242878063), np.float64(0.22779565071297145), np.float64(0.1772661807259958), np.float64(0.13179996651986303), np.float64(0.19302316215037624), np.float64(0.09170240231883824), np.float64(0.1970946586066785), np.float64(0.13435378100724837), np.float64(0.22036065824754394), np.float64(0.09817488674244988), np.float64(0.10247619461909811), np.float64(0.17939702108258848), np.float64(0.22813918513575568), np.float64(0.18267729180393602), np.float64(0.21637916711294738), np.float64(0.17413748682084695), np.float64(0.132902193666091), np.float64(0.19639965709589408), np.float64(0.0979311795933808), np.float64(0.11206889011394504), np.float64(0.11252002660365272), np.float64(0.09387532863415743), np.float64(0.19696454281721004), np.float64(0.22772344496320632), np.float64(0.2152213440707044), np.float64(0.16583661761048432), np.float64(0.22631968074130976), np.float64(0.25595629247776946), np.float64(0.07678081565310342), np.float64(0.06581870805437709), np.float64(0.07743771616159226), np.float64(0.14194839568437276), np.float64(0.10289459890461185), np.float64(0.08746883317106481), np.float64(0.08249845773284536), np.float64(0.04357507868759515), np.float64(0.0398101745574715), np.float64(0.12042993972008953), np.float64(0.09233951992393666), np.float64(0.08102653488574442), np.float64(0.04273892504605636), np.float64(0.09347106560607886), np.float64(0.057344132350594525), np.float64(0.09658740593934868), np.float64(0.13652421773386372), np.float64(0.09313987633111377), np.float64(0.1694011391179715), np.float64(0.10832324107851167), np.float64(0.0667521734252546), np.float64(0.04280630005929794), np.float64(0.09533984855270285), np.float64(0.12656615070981436), np.float64(0.05931759683040941), np.float64(0.19946578729119238), np.float64(0.12824808233364984), np.float64(0.06824750443503146), np.float64(0.0871111865457299), np.float64(0.07255814794491351), np.float64(0.05224907046423039), np.float64(0.0841974718395799), np.float64(0.08714973812930298), np.float64(0.07949516712177013), np.float64(0.1838379048022078), np.float64(0.15084839472111305), np.float64(0.08025553391940131), np.float64(0.1008989103933234), np.float64(0.10973348638988853), np.float64(0.03716986948328715), np.float64(0.07827362283240245), np.float64(0.16053936559741075), np.float64(0.128039804087158), np.float64(0.07811986619940149), np.float64(0.13348606619014497), np.float64(0.14445995801366507), np.float64(0.0689480322196597), np.float64(0.08429935834396451), np.float64(0.14532438218544677), np.float64(0.1480736976891759), np.float64(0.0398210983743314), np.float64(0.10215075830637714), np.float64(0.11259568922865301), np.float64(0.026774272128257125), np.float64(0.0654061656923756), np.float64(0.039376562673049696), np.float64(0.07701299926296742), np.float64(0.08888252823521), np.float64(0.025664733557919504), np.float64(0.1319818617318259), np.float64(0.09652521216782169), np.float64(0.16712922056143759), np.float64(0.11502027959148592), np.float64(0.25139974930103137), np.float64(0.0759594518129708), np.float64(0.07161249122899263), np.float64(0.11044281839258391), np.float64(0.07535412296510709), np.float64(0.01713621134559863), np.float64(0.049480587600977156), np.float64(0.09724564125525702), np.float64(0.1584138191208924), np.float64(0.01302503034938502), np.float64(0.15489642890772579), np.float64(0.1647213245607723), np.float64(0.14433831143000658), np.float64(0.10907019152876751), np.float64(0.1127965334877597), np.float64(0.15438196679604535), np.float64(0.1069227548259679), np.float64(0.09793701436842894), np.float64(0.06576210444839548), np.float64(0.14513879230584817), np.float64(0.06388041083362102), np.float64(0.16546946611957447), np.float64(0.07932991254058595), np.float64(0.16032145347884952), np.float64(0.08276710200354138), np.float64(0.05927683307410148), np.float64(0.07451021174776759), np.float64(0.06995561261758804), np.float64(0.11996645963161667), np.float64(0.08751512330674731), np.float64(0.10079106073758771), np.float64(0.0533529106158935), np.float64(0.14566248953221228), np.float64(0.11176083069208143), np.float64(0.1822855141417941), np.float64(0.07796970787214573), np.float64(0.06570190118805719), np.float64(0.041893143247649235), np.float64(0.01215562427161035), np.float64(0.08857051444835369), np.float64(0.0985394234986673), np.float64(0.15743971359368228), np.float64(0.13425808655905255), np.float64(0.05953380365292079), np.float64(0.038412029623684944), np.float64(0.04203489946822931), np.float64(0.11875796642864606), np.float64(0.23915156539670293), np.float64(0.11039002062955604), np.float64(0.05558778602152784), np.float64(0.13070169245379484), np.float64(0.11759462644473753), np.float64(0.026701067601338908), np.float64(0.024746542493669477), np.float64(0.016704660811318495), np.float64(0.09987693813632573), np.float64(0.15440021531244402), np.float64(0.09700751344737496), np.float64(0.09983598077656503), np.float64(0.010857329248066884), np.float64(0.08238624899708866), np.float64(0.0571225958978032), np.float64(0.09448480457353067), np.float64(0.09450171409827834), np.float64(0.045529024393348036), np.float64(0.12939474313139218), np.float64(0.06526668836518901), np.float64(0.05647172783974335), np.float64(0.06486246103705393), np.float64(0.07804217237766108), np.float64(0.27248859909758777), np.float64(0.11689457179962047), np.float64(0.14711867519602342), np.float64(0.11159308548653159), np.float64(0.029090895742779354), np.float64(0.16569379711769275), np.float64(0.17464829205234292), np.float64(0.07765002137801243), np.float64(0.06587615727366017), np.float64(0.09244690369188525), np.float64(0.10114536744508676), np.float64(0.1716361672017147), np.float64(0.1126107065172328), np.float64(0.24079500430175188), np.float64(0.07102940665747239), np.float64(0.07176229201565684), np.float64(0.020329837668342253), np.float64(0.09127301224640512), np.float64(0.16865884012673504), np.float64(0.06793159939110921), np.float64(0.037819075808434), np.float64(0.04570016916519112), np.float64(0.1599182626638068), np.float64(0.15774767779003657), np.float64(0.09130279779775356), np.float64(0.12072423113646173), np.float64(0.01748678333490627), np.float64(0.029412295691065564), np.float64(0.0951208233360662), np.float64(0.06902274891258088), np.float64(0.09861451609086827), np.float64(0.17990880745840904), np.float64(0.11035949341041595), np.float64(0.05285857948101782), np.float64(0.11745276523886804), np.float64(0.16583707820132035), np.float64(0.11216878493975425), np.float64(0.13119181439412397), np.float64(0.06932879734711792), np.float64(0.13797049504881756), np.float64(0.08382032570827383), np.float64(0.11930936962844915), np.float64(0.12051689994391296), np.float64(0.07108973336924732), np.float64(0.209999607893041), np.float64(0.17971433776225748), np.float64(0.07184228076558662), np.float64(0.1220423866047693), np.float64(0.0604643865610885), np.float64(0.11778778071777378), np.float64(0.0660317586159904), np.float64(0.10493341264102814), np.float64(0.09429835175544363), np.float64(0.07486920008584744), np.float64(0.048210358252581346), np.float64(0.07546751837387643), np.float64(0.10194247890492963), np.float64(0.043309569531585046), np.float64(0.2395318802555669), np.float64(0.07821570087114527), np.float64(0.03870273058081321), np.float64(0.05066126437071876), np.float64(0.051545168950458325), np.float64(0.0566148694809689), np.float64(0.057108425105295374), np.float64(0.07439485878708171), np.float64(0.07139475939881298), np.float64(0.10138455509779475), np.float64(0.13551168803055536), np.float64(0.06175232199437132), np.float64(0.07185189065927373), np.float64(0.044165739543171746), np.float64(0.041042545844532013), np.float64(0.04520037685883025), np.float64(0.16314284528025813), np.float64(0.12649070776346374), np.float64(0.03160126221596493), np.float64(0.11963371210332845), np.float64(0.04168073513607442), np.float64(0.04828359829298792), np.float64(0.11458495015160049), np.float64(0.05288410604863828), np.float64(0.05851198361945662), np.float64(0.0897872554250911), np.float64(0.09330411863875576), np.float64(0.05557841655438553), np.float64(0.16125129531093174), np.float64(0.08966211495885947), np.float64(0.11537052541607348), np.float64(0.10261058813044222), np.float64(0.058600754096677574), np.float64(0.12195198209271799), np.float64(0.061655986256495474), np.float64(0.13027046671128598), np.float64(0.10620887314064179), np.float64(0.15165444819855634), np.float64(0.08236773640748381), np.float64(0.0742036558902993), np.float64(0.1508999935533962), np.float64(0.1346352935551074), np.float64(0.06489695326608548), np.float64(0.04864352995402083), np.float64(0.14148598108596463), np.float64(0.06285869705905926), np.float64(0.04922705768515797), np.float64(0.08659438778096115), np.float64(0.1122284481915536), np.float64(0.04413424827546017), np.float64(0.12949576022124237), np.float64(0.014352047669195766), np.float64(0.03938509333664873), np.float64(0.041237159658825406), np.float64(0.11729349413806765), np.float64(0.10890142450877964), np.float64(0.10655907843119736), np.float64(0.062475681099408216), np.float64(0.09289100001011227), np.float64(0.23137614493577602), np.float64(0.07655994846605638), np.float64(0.12257585319218663), np.float64(0.061943828552947305), np.float64(0.15589400131590536), np.float64(0.048542808559900716), np.float64(0.09206021028386123), np.float64(0.0861391155816764), np.float64(0.06293116824375775), np.float64(0.1447733707354497), np.float64(0.07380305353699565), np.float64(0.1704808977564048), np.float64(0.10318797756596922), np.float64(0.16308174310006596), np.float64(0.10712323618033703), np.float64(0.08114958994240039), np.float64(0.04017247756383615), np.float64(0.05523429601178839), np.float64(0.09428765788362112), np.float64(0.13185626075043796), np.float64(0.06469574240514409), np.float64(0.10182817292257589), np.float64(0.1042633024710398), np.float64(0.10340199840781929), np.float64(0.06870043572854428), np.float64(0.10763320556242893), np.float64(0.12702829163209162), np.float64(0.09826204337671243), np.float64(0.12469295422463883), np.float64(0.15592108195994875), np.float64(0.044324626464442095), np.float64(0.12215446546775621), np.float64(0.07659313971523525), np.float64(0.109275468502933), np.float64(0.07204308717467099), np.float64(0.08853653891499447), np.float64(0.08808476965210629), np.float64(0.1016750768006415), np.float64(0.07589947898239296), np.float64(0.04297977029290533), np.float64(0.17314418225905315), np.float64(0.14911347867707128), np.float64(0.038712745246066604), np.float64(0.13598725261218192), np.float64(0.10413093455154046), np.float64(0.31534091190765773), np.float64(0.1464728607762309), np.float64(0.16438285695906724), np.float64(0.12362659854818177), np.float64(0.14919321749599251), np.float64(0.07550254546775051), np.float64(0.19619640805012212), np.float64(0.10724217444615754), np.float64(0.10647787563415281), np.float64(0.03565293404254392), np.float64(0.19659331867454946), np.float64(0.16959326172306138), np.float64(0.08201276324105554), np.float64(0.09200080855108812), np.float64(0.06370452230156538), np.float64(0.056669551506350176), np.float64(0.07475051505618739), np.float64(0.03237449868891454), np.float64(0.017243591914710577), np.float64(0.11140073570136878), np.float64(0.08177693592781501), np.float64(0.10633429627107445), np.float64(0.024322438548802793), np.float64(0.13402830452035563), np.float64(0.08574705037419114), np.float64(0.15956999946095368), np.float64(0.05594670662239366), np.float64(0.06480704996563812), np.float64(0.14272160955849875), np.float64(0.11722898189557117), np.float64(0.0687204971264787), np.float64(0.09362334328926825), np.float64(0.11649988602380569), np.float64(0.08909652960106729), np.float64(0.17203057492942386), np.float64(0.06176990995430362), np.float64(0.05440667352577516), np.float64(0.0953736411896196), np.float64(0.02761623371688088), np.float64(0.1506062719186706), np.float64(0.017713102851082903), np.float64(0.2254256120392948), np.float64(0.13630179150765975), np.float64(0.17849915521501172), np.float64(0.10208932213525426), np.float64(0.14174110928120073), np.float64(0.06511638193163775), np.float64(0.23782259114964402), np.float64(0.09998204676982328), np.float64(0.0065076645271044615), np.float64(0.058115990693267484), np.float64(0.03529887978078311), np.float64(0.09023136744282302), np.float64(0.165269575570111), np.float64(0.14788412943994794), np.float64(0.047639095452304686), np.float64(0.09309067769771134), np.float64(0.27644495166109084), np.float64(0.21321922954061368), np.float64(0.08958139026059596), np.float64(0.10546622269106462), np.float64(0.06113954591173094), np.float64(0.1517017625861866), np.float64(0.13385484354439134), np.float64(0.05062670663883289), np.float64(0.1390634251570753), np.float64(0.13552779180560615), np.float64(0.12082095900138813), np.float64(0.12345151537269475), np.float64(0.07565907495193668), np.float64(0.07416881455396518), np.float64(0.11772317088246385), np.float64(0.1064787239231611), np.float64(0.1348194446668487), np.float64(0.1480232857556324), np.float64(0.09156384995303071), np.float64(0.10543618753842762), np.float64(0.050660257230958516), np.float64(0.06316949787501233), np.float64(0.049641155285603686), np.float64(0.04271113962100393), np.float64(0.14320293479589474), np.float64(0.04915628239529497), np.float64(0.08781194276376246), np.float64(0.07704233200712894), np.float64(0.2193878026557146), np.float64(0.08171164189248097), np.float64(0.06841577583271821), np.float64(0.10247949399173135), np.float64(0.10407377950921934), np.float64(0.09525275122147157), np.float64(0.09484972976768137), np.float64(0.03045509097142258), np.float64(0.08991767441293526), np.float64(0.1286870468273405), np.float64(0.04523611977861637), np.float64(0.10754969347203526), np.float64(0.1001101729008466), np.float64(0.045988520379485774), np.float64(0.1007227808530436), np.float64(0.133577430786751), np.float64(0.05467040433260267), np.float64(0.08800243099422339), np.float64(0.13333262465595058), np.float64(0.12513064561377213), np.float64(0.1269986494475099), np.float64(0.058213593543198404), np.float64(0.09563060340859081), np.float64(0.07795394922408724), np.float64(0.0713733132180467), np.float64(0.14832653434974444), np.float64(0.10585849987539367), np.float64(0.07246781298754144), np.float64(0.1705906400084617), np.float64(0.0705147773470589), np.float64(0.17992441293310654), np.float64(0.06592374820232993), np.float64(0.040479691830249465), np.float64(0.1332851933245919), np.float64(0.05241232275350225), np.float64(0.13954297198695734), np.float64(0.19837385552723447), np.float64(0.14354147158155195), np.float64(0.12519707044890682), np.float64(0.02612788795729041), np.float64(0.06376828102653034), np.float64(0.0315393947253642), np.float64(0.11801283389824817), np.float64(0.08902789775829875), np.float64(0.027257917614856873), np.float64(0.10819380375169733), np.float64(0.05519934915192154), np.float64(0.049029104540048996), np.float64(0.2402314083976509), np.float64(0.17274498012888712), np.float64(0.08603679357329781), np.float64(0.06657083367662091), np.float64(0.05902687701097858), np.float64(0.12308553101409019), np.float64(0.06337566667146256), np.float64(0.08269492891689972), np.float64(0.06098131356376049), np.float64(0.13772314191282692), np.float64(0.14690596060767994), np.float64(0.056567545212974135), np.float64(0.0053501533180952835), np.float64(0.10510772004647385), np.float64(0.07008598925057244), np.float64(0.036514617792194476), np.float64(0.038941699144254854), np.float64(0.01526463760809936), np.float64(0.05245297289124057), np.float64(0.1087521172028269), np.float64(0.05450581478557286), np.float64(0.15266534943490992), np.float64(0.07210274120229326), np.float64(0.07108921545080528), np.float64(0.07364928780389939), np.float64(0.03464644817211915), np.float64(0.05446569448456859), np.float64(0.09076251514171041), np.float64(0.07363495107222276), np.float64(0.14504973597411286), np.float64(0.04642032273914045), np.float64(0.11271203404665693), np.float64(0.10715345905887806), np.float64(0.04883024213121911), np.float64(0.06399162901018267), np.float64(0.08716338324355603), np.float64(0.037748671959751935), np.float64(0.10216016546332655), np.float64(0.11190919970358909), np.float64(0.013433221734804582), np.float64(0.11914504771289298), np.float64(0.05209362659626099), np.float64(0.09414084075091352), np.float64(0.08998149048225743), np.float64(0.1411292498350589), np.float64(0.051047935369822627), np.float64(0.054813382480311826), np.float64(0.14366432596291448), np.float64(0.13070308561671454), np.float64(0.05544153680061092), np.float64(0.07388173903888416), np.float64(0.022393600329063793), np.float64(0.11445888188787916), np.float64(0.18073784786061392), np.float64(0.18735070366048748), np.float64(0.11126243971857248), np.float64(0.06532965873834744), np.float64(0.11414854476696348), np.float64(0.10659355640841556), np.float64(0.09691306326729965), np.float64(0.19967625250298182), np.float64(0.06637374996853647), np.float64(0.07930964295572075), np.float64(0.15972272623286835), np.float64(0.10901033480378797), np.float64(0.08725356837926834), np.float64(0.10025937290151117), np.float64(0.057242433145386046), np.float64(0.052926544611314956), np.float64(0.042768706526773045), np.float64(0.16757645269380628), np.float64(0.21030372455315186), np.float64(0.09416019482359649), np.float64(0.2221210795482882), np.float64(0.08817311096701141), np.float64(0.12239573746075041), np.float64(0.09543946272621058), np.float64(0.1315338748761684), np.float64(0.08472672628033386), np.float64(0.05993110752309907), np.float64(0.05317127105450049), np.float64(0.07993738953585176), np.float64(0.16523065683138458), np.float64(0.1336256045360498), np.float64(0.05624712774764386), np.float64(0.04604857731982808), np.float64(0.15352056205694045), np.float64(0.06259270641373126), np.float64(0.20370958696016478), np.float64(0.12016082953301163), np.float64(0.14123822506636002), np.float64(0.18333428480754463), np.float64(0.12967642147986272), np.float64(0.01018798682258647), np.float64(0.1562007220868123), np.float64(0.07835763175685978), np.float64(0.11511372091534504), np.float64(0.05712020462143598), np.float64(0.16818884638880438), np.float64(0.09310433319433839), np.float64(0.22882452834471456), np.float64(0.03761294533836648), np.float64(0.07290691558685396), np.float64(0.12712455308549664), np.float64(0.13272044197256103), np.float64(0.09325739952077745), np.float64(0.12742002202926883), np.float64(0.19771822892171728), np.float64(0.13224101138690525), np.float64(0.00487239901338307), np.float64(0.1549091755317945), np.float64(0.0603906534110977), np.float64(0.13819541245439945), np.float64(0.11013163468675449), np.float64(0.05527596114797721), np.float64(0.08033237586481236), np.float64(0.07253544448727191), np.float64(0.11433486845684737), np.float64(0.01480595248349988), np.float64(0.2218379523059042), np.float64(0.08478134596726143), np.float64(0.07420936198268457), np.float64(0.1396451271728682), np.float64(0.13153910573368413), np.float64(0.1650186448593755), np.float64(0.05297749495439594), np.float64(0.11216925145580285), np.float64(0.03907323623432714), np.float64(0.12970272295245808), np.float64(0.07712830590550127), np.float64(0.08783303957756743), np.float64(0.12716578981332144), np.float64(0.13772858383967498), np.float64(0.17454309991467234), np.float64(0.04237909714415943), np.float64(0.07854791120470214), np.float64(0.17860203737465488), np.float64(0.13799051334655515), np.float64(0.11324742207100207), np.float64(0.11100654656691987), np.float64(0.039899888238977416), np.float64(0.0840643486083018), np.float64(0.03488183762166094), np.float64(0.10069704249920403), np.float64(0.10142466072558982), np.float64(0.10045352620669623), np.float64(0.23115632301767294), np.float64(0.08218586017656955), np.float64(0.06828144502808721), np.float64(0.09538302541471211), np.float64(0.07780249677745661), np.float64(0.02779950859991804), np.float64(0.10505093038233358), np.float64(0.07164701928245426), np.float64(0.10098900155418634), np.float64(0.046905740476001385), np.float64(0.1135193318596707), np.float64(0.10539978820639082), np.float64(0.07455791028514389), np.float64(0.17137971091419676), np.float64(0.03819724303201784), np.float64(0.041087838300187744), np.float64(0.0450666962280541), np.float64(0.10772455351490881), np.float64(0.09300221266230276), np.float64(0.05721120261269231), np.float64(0.0886029170683269), np.float64(0.0832025517339396), np.float64(0.0824390701776807), np.float64(0.09281054699210275), np.float64(0.15443401691335348), np.float64(0.051328294635500066), np.float64(0.16116445217541808), np.float64(0.2549746975503242), np.float64(0.22541254139986516), np.float64(0.14398670445102196), np.float64(0.047197313505155276), np.float64(0.11432774746187295), np.float64(0.0495943634505274), np.float64(0.04477465604044956), np.float64(0.11367996808367099), np.float64(0.06832999209975549), np.float64(0.07772463825897773), np.float64(0.07940264900463243), np.float64(0.16224564885007056), np.float64(0.03557365948104034), np.float64(0.12023602437438491), np.float64(0.16147561272223682), np.float64(0.09787320217362462), np.float64(0.07481304471827369), np.float64(0.09828026452036485), np.float64(0.10267778372082531), np.float64(0.13383538915008064), np.float64(0.08840857468070888), np.float64(0.09437803954040103), np.float64(0.05700458774958607), np.float64(0.14818099760835965), np.float64(0.16145057170667795), np.float64(0.11955375421525781), np.float64(0.05242604838214904), np.float64(0.03433019421453349), np.float64(0.019191196663601407), np.float64(0.12534693821018442), np.float64(0.16691709834531704), np.float64(0.060223781247393395), np.float64(0.07968560057488125), np.float64(0.12548380769500395), np.float64(0.05922269837247409), np.float64(0.09922100821416775), np.float64(0.10910726435754942), np.float64(0.09893938195900542), np.float64(0.11108966921242713), np.float64(0.09097286118376509), np.float64(0.20271144584308626), np.float64(0.0716340068481362), np.float64(0.12140592581056063), np.float64(0.043264809390176774), np.float64(0.05608396151650015), np.float64(0.05647495225707282), np.float64(0.07932423050260658), np.float64(0.04037558304650162), np.float64(0.14308888787762528), np.float64(0.13663327501581737), np.float64(0.05423780920420511), np.float64(0.154949164980775), np.float64(0.12308997919845555), np.float64(0.0802213210912101), np.float64(0.048192842020644444), np.float64(0.1988507327420593), np.float64(0.13319139070354538), np.float64(0.06009900889978828), np.float64(0.08776619491046912), np.float64(0.15138592353003885), np.float64(0.03993197812331104), np.float64(0.06668719622900972), np.float64(0.01868160287652209), np.float64(0.049325052788862976), np.float64(0.02434616070534539), np.float64(0.07505851793341345), np.float64(0.12077545502608741), np.float64(0.026949007505484963), np.float64(0.06086201261262679), np.float64(0.11143283352581392), np.float64(0.04534386937024013), np.float64(0.13807857038962565), np.float64(0.09839952540725547), np.float64(0.0875390485024364), np.float64(0.12863244790124675), np.float64(0.17067388137124795), np.float64(0.0718252579275492), np.float64(0.16830396321700028), np.float64(0.07188332964015066), np.float64(0.07408542034650913), np.float64(0.1640554368415906), np.float64(0.16754196870079957), np.float64(0.06178158657685132), np.float64(0.05540617031907826), np.float64(0.07447391217411824), np.float64(0.10217961713279751), np.float64(0.04774000275098196), np.float64(0.19730858867440784), np.float64(0.14620188030061237), np.float64(0.07319299634155074), np.float64(0.10721511390734753), np.float64(0.06314409516018127), np.float64(0.0853620624346507), np.float64(0.1421350284184418), np.float64(0.1458866280885434), np.float64(0.10472579273538547), np.float64(0.03110547316536032), np.float64(0.06805159369664941), np.float64(0.12735621799935853), np.float64(0.06806647134247043), np.float64(0.14022546582932183), np.float64(0.13177285720773071), np.float64(0.10377943193188355), np.float64(0.12602849325342497), np.float64(0.0991494868732783), np.float64(0.017514404113119324), np.float64(0.14089151156335766), np.float64(0.054743040493716526), np.float64(0.024966920751484767), np.float64(0.06676216640228466), np.float64(0.05325414646537293), np.float64(0.12104660630920326), np.float64(0.1429167784606314), np.float64(0.1280068098402106), np.float64(0.13396308024122475), np.float64(0.07453297032507443), np.float64(0.058405297960684985), np.float64(0.1499614249773825), np.float64(0.0368797499153235), np.float64(0.09704376977469875), np.float64(0.0655272138434682), np.float64(0.10511353872138335), np.float64(0.11172195960395219), np.float64(0.06902000829617222), np.float64(0.10374414232534325), np.float64(0.13451845507636626), np.float64(0.10866494138947445), np.float64(0.15431045324730858), np.float64(0.022170384378258908), np.float64(0.06140243081838084), np.float64(0.0961543804179432), np.float64(0.1362710760111157), np.float64(0.03513219627284058), np.float64(0.13648198495121588), np.float64(0.07571506173123776), np.float64(0.10286298470032375), np.float64(0.09140382110106084), np.float64(0.09311561513188843), np.float64(0.13095029830691082), np.float64(0.05779111226692405), np.float64(0.025097372068350613), np.float64(0.11190769205349528), np.float64(0.1095332109467043), np.float64(0.08714841848603307), np.float64(0.02625875554554217), np.float64(0.05835488895785408), np.float64(0.22850004885087533), np.float64(0.016625051242031057), np.float64(0.092677304520602), np.float64(0.014104728437572682), np.float64(0.06885348409283487), np.float64(0.15383491052261739), np.float64(0.05758792879061407), np.float64(0.10333506819250521), np.float64(0.04063449750063672), np.float64(0.13060431123957633), np.float64(0.04883712292938617), np.float64(0.06197098728728134), np.float64(0.04970583438672607), np.float64(0.048830271978159014), np.float64(0.08626813387324338), np.float64(0.09209014175861426), np.float64(0.1460923607945924), np.float64(0.1362531029699575), np.float64(0.07093922166184496), np.float64(0.0889898188992088), np.float64(0.06598116062489201), np.float64(0.07976680760097975), np.float64(0.07496648775282458), np.float64(0.09107205391854742), np.float64(0.13386426941003807), np.float64(0.10600466527905936), np.float64(0.13945843121469967), np.float64(0.16868471409518873), np.float64(0.024901594020692804), np.float64(0.11889428935717783), np.float64(0.054727966787554774), np.float64(0.11680403196416235), np.float64(0.09532354674471906), np.float64(0.02099735776455226), np.float64(0.1565958943431949), np.float64(0.05738758256060533), np.float64(0.06381437164306292), np.float64(0.03954351278123167), np.float64(0.10564173325796511), np.float64(0.03658900282744323), np.float64(0.09983868162666754), np.float64(0.060299487790319135), np.float64(0.15402936228882805), np.float64(0.05837446637992873), np.float64(0.15987368747426337), np.float64(0.07608174777601347), np.float64(0.14796180840275366), np.float64(0.15211232190938584), np.float64(0.09732636968147305), np.float64(0.01818002621662583), np.float64(0.06344475322139341), np.float64(0.08952101009035222), np.float64(0.1095734589115719), np.float64(0.12742290695428435), np.float64(0.07980278738311655), np.float64(0.18683927689469795), np.float64(0.09513616785335186), np.float64(0.09093621335187843), np.float64(0.04816334565933164), np.float64(0.11521428865305516), np.float64(0.0536893201631323), np.float64(0.16409195478562913), np.float64(0.16176954096117593), np.float64(0.13097997568638334), np.float64(0.03684236115064286), np.float64(0.018544980488912583), np.float64(0.06966162689894392), np.float64(0.0970397790937128), np.float64(0.07033923866855982), np.float64(0.07143125143608399), np.float64(0.173346866969086), np.float64(0.05334949243919695), np.float64(0.08439403566979693), np.float64(0.018060171000906514), np.float64(0.028026888734740883), np.float64(0.06194799522610416), np.float64(0.07592495835451817), np.float64(0.12410679567419444), np.float64(0.06579676852699208), np.float64(0.14526641884379898), np.float64(0.09420630552715119), np.float64(0.15410847566412617), np.float64(0.0550629279367306), np.float64(0.11328253007914874), np.float64(0.0721854309746353), np.float64(0.05763891477387278), np.float64(0.10683214531242725), np.float64(0.09868506746166926), np.float64(0.0728857789076016), np.float64(0.12519023185760225), np.float64(0.11829910779618133), np.float64(0.107877591793023), np.float64(0.06731320082523844), np.float64(0.09537696221193466), np.float64(0.10631897620728753), np.float64(0.05978254841667594), np.float64(0.15367490001935677), np.float64(0.13665288932163647), np.float64(0.10794591551882847), np.float64(0.07574660051867252), np.float64(0.09790897769496167), np.float64(0.09560989853500577), np.float64(0.20127245179359066), np.float64(0.09024485244192212), np.float64(0.06921749302757263), np.float64(0.09640155462823558), np.float64(0.14424751200590172), np.float64(0.12087686367633657), np.float64(0.08002346454276463), np.float64(0.10528575478490554), np.float64(0.08930970571243302), np.float64(0.047101459955274934), np.float64(0.08035619968677875), np.float64(0.12659313409839648), np.float64(0.11661619525782316), np.float64(0.025225910072183166), np.float64(0.14584537502464537), np.float64(0.1265798200907307), np.float64(0.10301590506490678), np.float64(0.05760982710005161), np.float64(0.07464925399756007), np.float64(0.11853406879309568), np.float64(0.2243889197015994), np.float64(0.06932781856843728), np.float64(0.11442734447821656), np.float64(0.11904300491868867), np.float64(0.1785350389916916), np.float64(0.08903441786650274), np.float64(0.01711056208920274), np.float64(0.03549232466042514), np.float64(0.15683247893709648), np.float64(0.10590139234246951), np.float64(0.09154895904080926), np.float64(0.12973970274238225), np.float64(0.1080766122139058), np.float64(0.1192324085726183), np.float64(0.11869619110648828), np.float64(0.03609068968014737), np.float64(0.13740202761720907), np.float64(0.19026938923976128), np.float64(0.06811775491008729), np.float64(0.04154003777575694), np.float64(0.05347209849225378), np.float64(0.12695339649550924), np.float64(0.15043131598545903), np.float64(0.07987759989296016), np.float64(0.09257512502894469), np.float64(0.17620317788733428), np.float64(0.06368537186833154), np.float64(0.09060771133689484), np.float64(0.12361482487402381), np.float64(0.12981708459385383), np.float64(0.10543819813993568), np.float64(0.1345481757180778), np.float64(0.07548452727494541), np.float64(0.19142990737296353), np.float64(0.07137437947434941), np.float64(0.11417447124712364), np.float64(0.10112418776107746), np.float64(0.11257591299852276), np.float64(0.10644483171328088), np.float64(0.08413323745767047), np.float64(0.06998027686800759), np.float64(0.06999373815305866), np.float64(0.12748987636934586), np.float64(0.0341737941815991), np.float64(0.1464969288281333), np.float64(0.12245129528100379), np.float64(0.08708963761280364), np.float64(0.0605713655134348), np.float64(0.14077940713605702), np.float64(0.111018882678884), np.float64(0.1366989813040272), np.float64(0.11658402108669863), np.float64(0.060015043185586106), np.float64(0.05401526313677832), np.float64(0.21246888110180293), np.float64(0.09395441780417052), np.float64(0.11811265211391256), np.float64(0.08755936650526862), np.float64(0.08069977231223573), np.float64(0.1379449250913914), np.float64(0.08640839847695829), np.float64(0.026141644948400596), np.float64(0.025971833394166498), np.float64(0.10768794133098923), np.float64(0.04333710026528781), np.float64(0.09764031851786623), np.float64(0.0856830210048821), np.float64(0.1095736008155267), np.float64(0.0972132089254001), np.float64(0.11221159732751483), np.float64(0.14721245993843146), np.float64(0.03592024094143901), np.float64(0.10633116053503838), np.float64(0.09304142875005543), np.float64(0.03720337601944834), np.float64(0.27239460859496034), np.float64(0.1264416341378633), np.float64(0.03170358756568991), np.float64(0.08458271307832592), np.float64(0.18549612318599046), np.float64(0.11568124790433171), np.float64(0.04682579698480023), np.float64(0.10862050887502286), np.float64(0.047988363912801056), np.float64(0.08423848307106228), np.float64(0.14763015494530557), np.float64(0.10894482262747386), np.float64(0.15033340381726767), np.float64(0.21288409316610454), np.float64(0.11566071941601538), np.float64(0.022220266553106504), np.float64(0.10631019833452854), np.float64(0.08701490364867527), np.float64(0.09115143215666369), np.float64(0.1190977884466658), np.float64(0.029157140538271932), np.float64(0.10917854488615063), np.float64(0.10656654454711963), np.float64(0.13086045875963748), np.float64(0.08940503535238783), np.float64(0.05266495024996626), np.float64(0.09237378326726263), np.float64(0.13678750317792762), np.float64(0.10888775736776213), np.float64(0.13697376460161467), np.float64(0.13953599932224311), np.float64(0.09958506008617123), np.float64(0.11184339056434309), np.float64(0.21107797802704695), np.float64(0.09537782289679032), np.float64(0.10522284652509785), np.float64(0.06468761795872344), np.float64(0.027557858957944173), np.float64(0.08630174535338629), np.float64(0.12673713376478912), np.float64(0.07278768375462728), np.float64(0.07217475860691716), np.float64(0.04626119075628377), np.float64(0.252924246688065), np.float64(0.060871140751406004), np.float64(0.1183541463428396), np.float64(0.09860805322130439), np.float64(0.10429389587333648), np.float64(0.14553723040840544), np.float64(0.05894031588195548), np.float64(0.06292008953301079), np.float64(0.07857537523025401), np.float64(0.11068216616427748), np.float64(0.040161489015516645), np.float64(0.11100634708766181), np.float64(0.1444109784660076), np.float64(0.14681320018801228), np.float64(0.1052171002412483), np.float64(0.1308786205677754), np.float64(0.13416853786278754), np.float64(0.28198463041648336), np.float64(0.09492996609246539), np.float64(0.09535317861373009), np.float64(0.07812026773408108), np.float64(0.12157797804648048), np.float64(0.1324472242883917), np.float64(0.021055241725385684), np.float64(0.05017947015309319), np.float64(0.08689497547498964), np.float64(0.09284665267821632), np.float64(0.08551206810661523), np.float64(0.18707378942379188), np.float64(0.06829793120592141), np.float64(0.1052399462594814), np.float64(0.10609054743295904), np.float64(0.018272438389294782), np.float64(0.18868591041133942), np.float64(0.21226406439935266), np.float64(0.1120628415970122), np.float64(0.20991838627715365), np.float64(0.1176750538415893), np.float64(0.1376951249478722), np.float64(0.050875652832166184), np.float64(0.08504661218370817), np.float64(0.18380881772621224), np.float64(0.06622902948341725), np.float64(0.12696102827249564), np.float64(0.09156837981550908), np.float64(0.12047197930351856), np.float64(0.03306413202817338), np.float64(0.06378449786531616), np.float64(0.07974686174691588), np.float64(0.06001616995081498), np.float64(0.05881840699689686), np.float64(0.09677608726632181), np.float64(0.05824999916143697), np.float64(0.14102228560136995), np.float64(0.15089179771475636), np.float64(0.14474700070512556), np.float64(0.08901107612267252), np.float64(0.1265140797441863), np.float64(0.11123043793998036), np.float64(0.0463181301934174), np.float64(0.14311426530672963), np.float64(0.1376194149722879), np.float64(0.07214892061531118), np.float64(0.08362495371218844), np.float64(0.1269010185337161), np.float64(0.09309916911291731), np.float64(0.08938243520726621), np.float64(0.09386146913221706), np.float64(0.09508525774691387), np.float64(0.0972821631343801), np.float64(0.22401938638120336), np.float64(0.06006074359989403), np.float64(0.09260355841434614), np.float64(0.05401427516852985), np.float64(0.16319346231494208), np.float64(0.09626853682616547), np.float64(0.13285115768987943), np.float64(0.05505589867657227), np.float64(0.16108404606607585), np.float64(0.041388854860889605), np.float64(0.18241949748336905), np.float64(0.07408973454339986), np.float64(0.11057135033662012), np.float64(0.06978175448961701), np.float64(0.025705540822655505), np.float64(0.045766539750339355), np.float64(0.11826042941867106), np.float64(0.0942247046099881), np.float64(0.1807929263693881), np.float64(0.09879068133935055), np.float64(0.12295772086156281), np.float64(0.1601613502471574), np.float64(0.10957295082351087), np.float64(0.07846714226048891), np.float64(0.1342771791476431), np.float64(0.08958694806201488), np.float64(0.08690620530175891), np.float64(0.041355609827541294), np.float64(0.10684081847520452), np.float64(0.09158510639057668), np.float64(0.07721097081127776), np.float64(0.07489529594010641), np.float64(0.10045886920159353), np.float64(0.06873352728029475), np.float64(0.06511458353534193), np.float64(0.1263769792172237), np.float64(0.040591727402609384), np.float64(0.0642834772602743), np.float64(0.13384617442363667), np.float64(0.09540338412179386), np.float64(0.14276413714152722), np.float64(0.09521760687387607), np.float64(0.19706275994339884), np.float64(0.09994365733784047), np.float64(0.1266909410425855), np.float64(0.05886019973355822), np.float64(0.10287546265279619), np.float64(0.06465654354814446), np.float64(0.05265434851738151), np.float64(0.061813392026840754), np.float64(0.13508368787418634), np.float64(0.05136125729310156), np.float64(0.10823596609933474), np.float64(0.05192368045589224), np.float64(0.14790168754576943), np.float64(0.10388617541899198), np.float64(0.059469012930608134), np.float64(0.044494631075857494), np.float64(0.14007926051977498), np.float64(0.13239844009598042), np.float64(0.025686040051699107), np.float64(0.08457518799580498), np.float64(0.05230386072225348), np.float64(0.049590627036033064), np.float64(0.12040299574776338), np.float64(0.0887198826591207), np.float64(0.06444780794957511), np.float64(0.06361693739950373), np.float64(0.07251373843216351), np.float64(0.13659567637677747), np.float64(0.07305507574658968), np.float64(0.0955289231570112), np.float64(0.022468092132568913), np.float64(0.044094061546620135), np.float64(0.07734513478201295), np.float64(0.11629373755471574), np.float64(0.1580646571887998), np.float64(0.07291048428221715), np.float64(0.14194715440644687), np.float64(0.12178888955635529), np.float64(0.13927845794348656), np.float64(0.13369394101840157), np.float64(0.14971999038360684), np.float64(0.12827574765537914), np.float64(0.10827712051747396), np.float64(0.11044075982331086), np.float64(0.09051730102027741), np.float64(0.11746332597598408), np.float64(0.1249285394215425), np.float64(0.037410962956365576), np.float64(0.15436799452367536), np.float64(0.1556773330329191), np.float64(0.07862594258612188), np.float64(0.007093795350326904), np.float64(0.08165142632766205), np.float64(0.08069653722485827), np.float64(0.07916737905798216), np.float64(0.16808919579276754), np.float64(0.08732078999248238), np.float64(0.05880269511174907), np.float64(0.12287495812679267), np.float64(0.1000770641670124), np.float64(0.155510643757426), np.float64(0.0781311352849693), np.float64(0.09445580272025124), np.float64(0.12225495854219268), np.float64(0.07767924836387097), np.float64(0.06198004136691636), np.float64(0.07391475502003717), np.float64(0.10495855815419224), np.float64(0.11247589330958421), np.float64(0.11845465577704058), np.float64(0.16804054759720993), np.float64(0.10188469281973934), np.float64(0.07183011960040561), np.float64(0.06659839487920234), np.float64(0.09995505909852972), np.float64(0.13159676016934457), np.float64(0.03068229812784476), np.float64(0.17460151976875754), np.float64(0.04716877740712992), np.float64(0.08802822724532113), np.float64(0.09214684833040203), np.float64(0.09171603324536305), np.float64(0.07805128387377992), np.float64(0.07137607588610864), np.float64(0.1195516978756919), np.float64(0.1438009845083427), np.float64(0.09777415907429265), np.float64(0.07600259045500048), np.float64(0.11016625091913972), np.float64(0.14630282287263854), np.float64(0.14262126159007438), np.float64(0.2510352089762083), np.float64(0.0927655594946093), np.float64(0.13119113799439278), np.float64(0.061618142055345035), np.float64(0.07479432656318333), np.float64(0.05842867928349669), np.float64(0.042504683354933064), np.float64(0.12801000194068923), np.float64(0.11186691954484619), np.float64(0.09772428074416034), np.float64(0.07961376388546156), np.float64(0.11927513012726991), np.float64(0.10884862141504763), np.float64(0.07761633378210854), np.float64(0.14835087292377702), np.float64(0.10377705585166903), np.float64(0.05144695050533279), np.float64(0.13029125764491836), np.float64(0.08537271029066365), np.float64(0.12455561925960247), np.float64(0.10087791434324676), np.float64(0.050423368514316794), np.float64(0.11309917947118052), np.float64(0.05602540567701918), np.float64(0.07058632894648927), np.float64(0.028791719047683195), np.float64(0.11513019019831992), np.float64(0.11350651486965552), np.float64(0.075536053814395), np.float64(0.08129953664656404), np.float64(0.10173512267727444), np.float64(0.04114557273531837), np.float64(0.08482489222901765), np.float64(0.03505689470124135), np.float64(0.09952394026790405), np.float64(0.09826256638265148), np.float64(0.07814277736446627), np.float64(0.11035998903441989), np.float64(0.09956196102176872), np.float64(0.07298831363155635), np.float64(0.12721774041016276), np.float64(0.08638960710193364), np.float64(0.032128711968813624), np.float64(0.07173198628844817), np.float64(0.05300784610357958), np.float64(0.10233998746094786), np.float64(0.06965796896134817), np.float64(0.05184952644396123), np.float64(0.15073228559306903), np.float64(0.047124792458620814), np.float64(0.05462596670686045), np.float64(0.07210878919655765), np.float64(0.06370712277554487), np.float64(0.08320844713508767), np.float64(0.11748190648430688), np.float64(0.02760579488479965), np.float64(0.05843866800399555), np.float64(0.0788732400202478), np.float64(0.08896092401655814), np.float64(0.05093392053867679), np.float64(0.022197484283555568), np.float64(0.06750422056299893), np.float64(0.033422922829074185), np.float64(0.051700557083891804), np.float64(0.053157358881016276), np.float64(0.007898483038249382), np.float64(0.10775939865099501), np.float64(0.05357580032356105), np.float64(0.030241538107518142), np.float64(0.13243053942457686), np.float64(0.042808468012241654), np.float64(0.09158357924512397), np.float64(0.03836184137756556), np.float64(0.11245475935741155), np.float64(0.07456656629234318), np.float64(0.0863543035963364), np.float64(0.036143749778688755), np.float64(0.054613826547590845), np.float64(0.05777553247634599), np.float64(0.03522388596617603), np.float64(0.11724716930206289), np.float64(0.02256606890149188), np.float64(0.11736727309738125), np.float64(0.037018802924860233), np.float64(0.10598989569906792), np.float64(0.04465329315033769), np.float64(0.12851900772520627), np.float64(0.08466658996784475), np.float64(0.06684586705225973), np.float64(0.06507386275085544), np.float64(0.04724191843286334), np.float64(0.06314878368237889), np.float64(0.17259211937296803), np.float64(0.11239284792003137), np.float64(0.11085010327879849), np.float64(0.03560549289360696), np.float64(0.04705717231293776), np.float64(0.04167333996033835), np.float64(0.04007342184192335), np.float64(0.09995387634174834), np.float64(0.04469997470128391), np.float64(0.036681893603930545), np.float64(0.049618739182914366), np.float64(0.12439671622559077), np.float64(0.01687267392384821), np.float64(0.04229638691293616), np.float64(0.03449375205322097), np.float64(0.10274730326067362), np.float64(0.060984533955355864), np.float64(0.02583309901824193), np.float64(0.0752818805691071), np.float64(0.12117441509391974), np.float64(0.007177424813098172), np.float64(0.09456966704553452), np.float64(0.027158991506160066), np.float64(0.028240664622148404), np.float64(0.11491280628415523), np.float64(0.03839189320940164), np.float64(0.13305388073069077), np.float64(0.046175832731138296), np.float64(0.1340766765059912), np.float64(0.09151342876050289), np.float64(0.0946278738872425), np.float64(0.08485155639048522), np.float64(0.05017853300908913), np.float64(0.03023438039244104), np.float64(0.09257563183179122), np.float64(0.013886064065332741), np.float64(0.039605422876047), np.float64(0.08635072221526902), np.float64(0.05817670902906228), np.float64(0.04322686884307976), np.float64(0.054388348408255835), np.float64(0.0296555160465149), np.float64(0.03926452845342843), np.float64(0.05395748407000469), np.float64(0.10382908638570157), np.float64(0.044164310910124314), np.float64(0.09422171828694242), np.float64(0.1322092063590091), np.float64(0.09421502644303915), np.float64(0.0825785860667906), np.float64(0.06253946316118657), np.float64(0.08002820080154938), np.float64(0.047997652697403435), np.float64(0.02509752092714625), np.float64(0.05830544906589838), np.float64(0.03375330676922482), np.float64(0.06214475417895374), np.float64(0.12403944649397926), np.float64(0.08532007526709641), np.float64(0.0344968605011608), np.float64(0.058589584504165536), np.float64(0.07495477178524265), np.float64(0.052557916141830585), np.float64(0.08029441790265805), np.float64(0.04992457327917532), np.float64(0.0822986942538962), np.float64(0.10821895117346594), np.float64(0.023484522581212423), np.float64(0.07921502460389766), np.float64(0.037390437239128015), np.float64(0.07487487963555622), np.float64(0.09853887019585697), np.float64(0.0975645401910745), np.float64(0.04004550168239569), np.float64(0.06456657560240533), np.float64(0.063002120623595), np.float64(0.11025773713805624), np.float64(0.11839421852178086), np.float64(0.08680091886809232), np.float64(0.029412015568066385), np.float64(0.1476542190625446), np.float64(0.03992416456846623), np.float64(0.0944834079635368), np.float64(0.01663708591532928), np.float64(0.015118861751162468), np.float64(0.023699976961550934), np.float64(0.03144447037465437), np.float64(0.03747408585674856), np.float64(0.031658533442880644), np.float64(0.07393861883002892), np.float64(0.06755093434601273), np.float64(0.10395266809843115), np.float64(0.047831998911426546), np.float64(0.05759745707377504), np.float64(0.06841618091456907), np.float64(0.08909910869888442), np.float64(0.11075931000793854), np.float64(0.06488924638353455), np.float64(0.06374200248503442), np.float64(0.07340204346631159), np.float64(0.05468611936023113), np.float64(0.06892541082774487), np.float64(0.024993314095603555), np.float64(0.0699505439919327), np.float64(0.10588917758324014), np.float64(0.03536034717698488), np.float64(0.08022825972107397), np.float64(0.05658975494545775), np.float64(0.06398638503360347), np.float64(0.054164094861051226), np.float64(0.06916796387337208), np.float64(0.1164817018623265), np.float64(0.11427482803097182), np.float64(0.10588940563328929), np.float64(0.02456353634893775), np.float64(0.16900124828111684), np.float64(0.09497176549149108), np.float64(0.08482575350951803), np.float64(0.07961930253652083), np.float64(0.05489461611711235), np.float64(0.12386128141436535), np.float64(0.06994010027966159), np.float64(0.05388795335152036), np.float64(0.10891858505219813), np.float64(0.09324127505240556), np.float64(0.04630521507473633), np.float64(0.07618046513571636), np.float64(0.10312490236348355), np.float64(0.13660997477679754), np.float64(0.18013367109373962), np.float64(0.1787354676914291), np.float64(0.10233226164771948), np.float64(0.17727184890826575), np.float64(0.10879840820962991), np.float64(0.07128050905684039), np.float64(0.10917616755402039), np.float64(0.11132413659029462), np.float64(0.12782965483991912), np.float64(0.15398316686754313), np.float64(0.05865659299557432), np.float64(0.05486824029116173), np.float64(0.14873837557124647), np.float64(0.052523167963241406), np.float64(0.14157156321154468), np.float64(0.11192813628316657), np.float64(0.08419273089691953), np.float64(0.06962201294982649), np.float64(0.13889203087505098), np.float64(0.1560792756027667), np.float64(0.1254835043651794), np.float64(0.10232325886792316), np.float64(0.10522939159949857), np.float64(0.1020943573883719), np.float64(0.04134725314324389), np.float64(0.1383217248832053), np.float64(0.08111118522110149), np.float64(0.09242140667301414), np.float64(0.11882643828199782), np.float64(0.17791108620666563), np.float64(0.12460781107471842), np.float64(0.12418701897911784), np.float64(0.030091512021329928), np.float64(0.09315268605773516), np.float64(0.11028234372244873), np.float64(0.1388309858135989), np.float64(0.14920251993536118), np.float64(0.13051118111171917), np.float64(0.07609289186392196), np.float64(0.07336897749346223), np.float64(0.08252061490193391), np.float64(0.13230632710659843), np.float64(0.13395189638594668), np.float64(0.09767610856925069), np.float64(0.08825985334111167), np.float64(0.09740992082215325), np.float64(0.16197006820679402), np.float64(0.11643453074925614), np.float64(0.12147799172820943), np.float64(0.07244534214809109), np.float64(0.11128076080904299), np.float64(0.14854741944272057), np.float64(0.06955551120283429), np.float64(0.13025601512768095), np.float64(0.05269671860529577), np.float64(0.15969605294296438), np.float64(0.08294092541460858), np.float64(0.10163223691789043), np.float64(0.13748643747272404), np.float64(0.04420546147381536), np.float64(0.10961516961833127), np.float64(0.09946656952397476), np.float64(0.09172698054479843), np.float64(0.01956626509606021), np.float64(0.034676352064880574), np.float64(0.08014068694379552), np.float64(0.07175910288403423), np.float64(0.11525994471258023), np.float64(0.09941849603766778), np.float64(0.15214501906122307), np.float64(0.10004345413028405), np.float64(0.06569644196339545), np.float64(0.11198653554703887), np.float64(0.07660287391096554), np.float64(0.08325404625356103), np.float64(0.12346862679345195), np.float64(0.2137346048776791), np.float64(0.09597119380076007), np.float64(0.10829154129398419), np.float64(0.06002714926397248), np.float64(0.08051538269102419), np.float64(0.14658411233662752), np.float64(0.08992422681399291), np.float64(0.14984229119702847), np.float64(0.08766490817678507), np.float64(0.08686060654885895), np.float64(0.14005212639429893), np.float64(0.06491782300654704), np.float64(0.08626421378558147), np.float64(0.10763443602288306), np.float64(0.028988719008275092), np.float64(0.09210361302634441), np.float64(0.06798349532654742), np.float64(0.2103776916740385), np.float64(0.1780600276774962), np.float64(0.12032709788786178), np.float64(0.1161859158104601), np.float64(0.027423988226138306), np.float64(0.07209008820786146), np.float64(0.09679662053279935), np.float64(0.06135559664807731), np.float64(0.12084835573834726), np.float64(0.11252626977606836), np.float64(0.10639598739418904), np.float64(0.14348066777506563), np.float64(0.06752395772179728), np.float64(0.08454084583202034), np.float64(0.18180399503051156), np.float64(0.13319717244402945), np.float64(0.04838032284463406), np.float64(0.12737728758578942), np.float64(0.07317017443739432), np.float64(0.09787236966555955), np.float64(0.1268721649553154), np.float64(0.0775369799929551), np.float64(0.16990696305766975), np.float64(0.11668395574072397), np.float64(0.08590924981165282), np.float64(0.06923416686533135), np.float64(0.03636452080215292), np.float64(0.08529399229257698), np.float64(0.12990594576933123), np.float64(0.08386394171104107), np.float64(0.1126577625051282), np.float64(0.09750604654980247), np.float64(0.15680870188416643), np.float64(0.0899222795341815), np.float64(0.0978164994197533), np.float64(0.051924631801926725), np.float64(0.16513244135633567), np.float64(0.0958116036137963), np.float64(0.09162865607101216), np.float64(0.10707978287536073), np.float64(0.09200560556286289), np.float64(0.10060606691066502), np.float64(0.10145943088999203), np.float64(0.05130010131956521), np.float64(0.16373324570557451), np.float64(0.11065213797827197), np.float64(0.050421576082312465), np.float64(0.11118207408509184), np.float64(0.14830974149494935), np.float64(0.14106055077151433), np.float64(0.05734831255822627), np.float64(0.10923829204053645), np.float64(0.133183538416977), np.float64(0.09207221975143484), np.float64(0.032312547449653735), np.float64(0.09207420386541246), np.float64(0.09705771275360771), np.float64(0.09705080400767763), np.float64(0.12662476401190007), np.float64(0.04157900616412322), np.float64(0.1583060186661273), np.float64(0.12339781043821235), np.float64(0.1400948614980021), np.float64(0.013750226066308392), np.float64(0.08712564442733312), np.float64(0.11633148036644873), np.float64(0.09234638844974638), np.float64(0.10560513837871352), np.float64(0.1512922016045161), np.float64(0.006300388236239714), np.float64(0.1216672458319019), np.float64(0.09537711616853849), np.float64(0.11943648445537984), np.float64(0.05279881728209437), np.float64(0.1335425286276654), np.float64(0.15043203844714076), np.float64(0.09079432885445135), np.float64(0.09031464852890142), np.float64(0.11655161225605067), np.float64(0.07156719984865456), np.float64(0.07180064415790607), np.float64(0.19085946472273488), np.float64(0.12220303641285175), np.float64(0.0342586421176691), np.float64(0.055544822507204154), np.float64(0.08772849813186877), np.float64(0.12028062832324457), np.float64(0.06441660464556752), np.float64(0.1106251427975954), np.float64(0.028311820188827646), np.float64(0.04091779708244845), np.float64(0.12512762581589426), np.float64(0.12974666958500483), np.float64(0.12273959812838924), np.float64(0.124132175465794), np.float64(0.08111399084716778), np.float64(0.11747055526680349), np.float64(0.16200136288150271), np.float64(0.06676943013720735), np.float64(0.07127826853804085), np.float64(0.11905887883787207), np.float64(0.1772591658886908), np.float64(0.13169601682822532), np.float64(0.13511358526741565), np.float64(0.043619408890329746), np.float64(0.1535390178726197), np.float64(0.168186989980478), np.float64(0.15890686890924963), np.float64(0.06248034420785781), np.float64(0.01399900692138421), np.float64(0.0842435368073793), np.float64(0.15118835716256981), np.float64(0.13613212949626036), np.float64(0.07663133366541473), np.float64(0.08166946973599963), np.float64(0.04965605283635992), np.float64(0.0805647344851629), np.float64(0.149203070296547), np.float64(0.1413171301809296), np.float64(0.11344497237053575), np.float64(0.11892038630606498), np.float64(0.15388766102162965), np.float64(0.0703725713920727), np.float64(0.1750344476122272), np.float64(0.11544917877322818), np.float64(0.10505900097563485), np.float64(0.0951890184039671), np.float64(0.11681698552888221), np.float64(0.15116312655698708), np.float64(0.08877830871146972), np.float64(0.11403811225654083), np.float64(0.07740217304935855), np.float64(0.056518732069594756), np.float64(0.08400387037118777), np.float64(0.07947302432573977), np.float64(0.11347088042750425), np.float64(0.1549370654593932), np.float64(0.09908913403783187), np.float64(0.14406904904085405), np.float64(0.055431477026857176), np.float64(0.17534818521550283), np.float64(0.08152368273355118), np.float64(0.1080744014755636), np.float64(0.14119758919909883), np.float64(0.10217508677667242), np.float64(0.11109112261204679), np.float64(0.1338334195623493), np.float64(0.07385555165883058), np.float64(0.10733388422497986), np.float64(0.11537558852448354), np.float64(0.1361119870353982), np.float64(0.12932262752610982), np.float64(0.10810619881369651), np.float64(0.11806117277537341), np.float64(0.1277130534964812), np.float64(0.048201442938231205), np.float64(0.1008317404778322), np.float64(0.02508095576307088), np.float64(0.1158123296581035), np.float64(0.08425596630809211), np.float64(0.12554772775076858), np.float64(0.16202771229507396), np.float64(0.13160244749949038), np.float64(0.10702946909728626), np.float64(0.15357429545052537), np.float64(0.07616035348879868), np.float64(0.06302834141882728), np.float64(0.09914750684127123), np.float64(0.13793770472855701), np.float64(0.12950373503494494), np.float64(0.08896524667348213), np.float64(0.06794272661369577), np.float64(0.057400189482390736), np.float64(0.07379694085395241), np.float64(0.16504937528085897), np.float64(0.04001458615281921), np.float64(0.10045808537028596), np.float64(0.11252026145481729), np.float64(0.0362112955697645), np.float64(0.18460701658201992), np.float64(0.11287448990300625), np.float64(0.026385555453934468), np.float64(0.07007100503991694), np.float64(0.020734804659549196), np.float64(0.08535554963541915), np.float64(0.11537659707794443), np.float64(0.173319988957344), np.float64(0.04309096567815922), np.float64(0.11063604264768222), np.float64(0.11490846653028036), np.float64(0.12735216561558382), np.float64(0.13020233202167944), np.float64(0.0874885515098903), np.float64(0.08690973265228094), np.float64(0.04550864502444609), np.float64(0.0708730739026329), np.float64(0.06334925823385436), np.float64(0.20085024774286392), np.float64(0.08733818526369833), np.float64(0.13533292578031575), np.float64(0.06831700135339876), np.float64(0.12184166211893817), np.float64(0.10557494376699339), np.float64(0.07990268747548958), np.float64(0.05440506745637425), np.float64(0.06082751949913606), np.float64(0.08451157223021513), np.float64(0.10749631160739591), np.float64(0.0709071369617817), np.float64(0.07025507696601517), np.float64(0.03184097800481244), np.float64(0.05842346390296208), np.float64(0.0706184513650428), np.float64(0.09042449705002968), np.float64(0.077214486688575), np.float64(0.13435350407218516), np.float64(0.03854808221861287), np.float64(0.06165483825970552), np.float64(0.07791307071784202), np.float64(0.11657653802952948), np.float64(0.07741039188476524), np.float64(0.0784694082090965), np.float64(0.07824095749858939), np.float64(0.13643711322223798), np.float64(0.149017543384747), np.float64(0.11758365848740264), np.float64(0.09852800958230358), np.float64(0.08023330093973158), np.float64(0.046963564584272095), np.float64(0.08958057679683581), np.float64(0.13061613388703713), np.float64(0.09450173604858858), np.float64(0.006701268224271867), np.float64(0.06687883328281032), np.float64(0.17092312287477857), np.float64(0.10903124354961449), np.float64(0.06005112937662464), np.float64(0.11741063893057764), np.float64(0.09984025516001091), np.float64(0.1295221163785728), np.float64(0.10391440496317171), np.float64(0.13930493988698398), np.float64(0.06595188209883748), np.float64(0.1041545494423546), np.float64(0.16427701578920012), np.float64(0.09868159448470877), np.float64(0.10165587073646275), np.float64(0.1699177175589178), np.float64(0.09165207034661145), np.float64(0.07748122215881188), np.float64(0.07170279549169471), np.float64(0.11746647781010934), np.float64(0.10025066977133562), np.float64(0.09329380217553587), np.float64(0.18810839042695388), np.float64(0.017921787269003574), np.float64(0.11800265969524654), np.float64(0.14499264754132107), np.float64(0.2574791210857976), np.float64(0.0652869772829186), np.float64(0.1537376735968293), np.float64(0.1253396239204312), np.float64(0.16102274475074735), np.float64(0.07737701332060513), np.float64(0.028122287900102315), np.float64(0.0657544912853368), np.float64(0.16651868898639927), np.float64(0.12037192937055195), np.float64(0.1138282675275431), np.float64(0.06817182614091168), np.float64(0.13294392383068446), np.float64(0.057465225405584325), np.float64(0.08192837278408152), np.float64(0.16372405117368835), np.float64(0.1512867948311636), np.float64(0.10088166183979123), np.float64(0.23615812982872067), np.float64(0.1428051463074673), np.float64(0.13724529539635275), np.float64(0.11646902835302331), np.float64(0.0849328005213476), np.float64(0.09959677954721205), np.float64(0.08195775266607129), np.float64(0.15238243151656122), np.float64(0.14603779300202827), np.float64(0.09844276647487452), np.float64(0.12521058788856756), np.float64(0.056735070343899796), np.float64(0.0799607590895935), np.float64(0.10194613857241244), np.float64(0.09710617768498365), np.float64(0.055494862190910973), np.float64(0.11729593677648054), np.float64(0.11383847895230537), np.float64(0.14633343464411977), np.float64(0.0996423515432431), np.float64(0.07658060341249037), np.float64(0.03810876490794311), np.float64(0.07092767830747686), np.float64(0.1676560530707291), np.float64(0.03511690890772291), np.float64(0.08214530622754858), np.float64(0.12004767191946726), np.float64(0.09384582832626887), np.float64(0.10954473888122042), np.float64(0.04669490266855895), np.float64(0.14735075070541362), np.float64(0.07920442697411105), np.float64(0.10767804901438983), np.float64(0.08804567488563596), np.float64(0.08046416367117175), np.float64(0.09743973863484799), np.float64(0.0425767625519614), np.float64(0.09417215987259564), np.float64(0.2137891443361281), np.float64(0.19059895955683945), np.float64(0.08310189414408653), np.float64(0.10612628731654145), np.float64(0.08056633851946406), np.float64(0.06165419922127844), np.float64(0.08100953049891695), np.float64(0.09820714154487109), np.float64(0.15769614479020735), np.float64(0.13769046417724942), np.float64(0.07931134090193703), np.float64(0.0650706739384874), np.float64(0.16553265452362967), np.float64(0.12117008231787375), np.float64(0.10511904002829557), np.float64(0.030685788425233822), np.float64(0.10743840203756057), np.float64(0.12731745685438625), np.float64(0.05134262379205286), np.float64(0.05679223879644208), np.float64(0.06345915965715214), np.float64(0.06418720327082303), np.float64(0.08164618356149904), np.float64(0.07422560930324747), np.float64(0.06061509128535666), np.float64(0.07506080144288975), np.float64(0.11425995624646197), np.float64(0.13458687420887228), np.float64(0.06815430913499936), np.float64(0.05321293585034907), np.float64(0.08668555510137727), np.float64(0.12880717515300927), np.float64(0.11501857083318787), np.float64(0.1109960245428618), np.float64(0.05731904278268623), np.float64(0.08092631597294071), np.float64(0.0432575330556812), np.float64(0.11826814620404565), np.float64(0.1167519816369296), np.float64(0.0346394833973876), np.float64(0.09142335217331134), np.float64(0.08474533338641295), np.float64(0.11843007235592265), np.float64(0.1386679535705987), np.float64(0.054888076285468504), np.float64(0.11191468024905528), np.float64(0.06934996921513271), np.float64(0.11014011693161567), np.float64(0.16798976600055568), np.float64(0.08370156727331579), np.float64(0.13063000903190503), np.float64(0.13435819838807525), np.float64(0.04429319530562712), np.float64(0.12145934053856276), np.float64(0.19815296656015458), np.float64(0.10293173760617455), np.float64(0.15110228297414824), np.float64(0.129830796785381), np.float64(0.09102460898662934), np.float64(0.032649894880681776), np.float64(0.13940544021894233), np.float64(0.08912286065116254), np.float64(0.10462775179190857), np.float64(0.08017799348749877), np.float64(0.10934983363063995), np.float64(0.10790733882381663), np.float64(0.06889905627607684), np.float64(0.022592334217594198), np.float64(0.10195300090509694), np.float64(0.12183141144198288), np.float64(0.10913824508053507), np.float64(0.12703035856502026), np.float64(0.08059078864905099), np.float64(0.056028968714537976), np.float64(0.08209790691385384), np.float64(0.05705421881240591), np.float64(0.13195352637919913), np.float64(0.028874428020208134), np.float64(0.0737807530596549), np.float64(0.07476068753120155), np.float64(0.05779923726536512), np.float64(0.023853664849188164), np.float64(0.08094297822279042), np.float64(0.10827319362701987), np.float64(0.06840225833211715), np.float64(0.14438864358603823), np.float64(0.1621474644154181), np.float64(0.10121166846079448), np.float64(0.13379568465046246), np.float64(0.06338668255731687), np.float64(0.0695813110469757), np.float64(0.1438645552009093), np.float64(0.10702830771289275), np.float64(0.06898627061656079), np.float64(0.07360221825116291), np.float64(0.12106839622685103), np.float64(0.10812023689825685), np.float64(0.10725220889746447), np.float64(0.13185129306657026), np.float64(0.1523769509515615), np.float64(0.11208748172424723), np.float64(0.09321974183282875), np.float64(0.08821538550572822), np.float64(0.07477578912685838), np.float64(0.11719246975839342), np.float64(0.052312815993682635), np.float64(0.08240520375085279), np.float64(0.050509457102108184), np.float64(0.04900105281423108), np.float64(0.11755009323714558), np.float64(0.11072860807868501), np.float64(0.1359068315339468), np.float64(0.09787486991211335), np.float64(0.031136253433295583), np.float64(0.06305433211719752), np.float64(0.0436677856938185), np.float64(0.05462318905776245), np.float64(0.030856415427800585), np.float64(0.10433353988090302), np.float64(0.11637206584265873), np.float64(0.10091215057713825), np.float64(0.08211071927979349), np.float64(0.07692817148796684), np.float64(0.03006080854346588), np.float64(0.07356059175557925), np.float64(0.09160408559571684), np.float64(0.0815955229539409), np.float64(0.060880112222772474), np.float64(0.05208835795228705), np.float64(0.06540325818159073), np.float64(0.09979866851443348), np.float64(0.05142853043162972), np.float64(0.09599994374811449), np.float64(0.09785867319172177), np.float64(0.0869905749983906), np.float64(0.08629747198523727), np.float64(0.14551611087738134), np.float64(0.11083254646190822), np.float64(0.09695087179305395), np.float64(0.11943626832212614), np.float64(0.06529758523456722), np.float64(0.08119148054398409), np.float64(0.08048990713793061), np.float64(0.10118030472546202), np.float64(0.1363607225984884), np.float64(0.040537279016898034), np.float64(0.13237075768355755), np.float64(0.09901590718114273), np.float64(0.07779404600889119), np.float64(0.11526733514506944), np.float64(0.11391651826645709), np.float64(0.08120791627814665), np.float64(0.061770404811919095), np.float64(0.03738545986263623), np.float64(0.11039900854586103), np.float64(0.14475684858134755), np.float64(0.06867126860764253), np.float64(0.1061533376727788), np.float64(0.15130522410788286), np.float64(0.07597688620202458), np.float64(0.07393671602179869), np.float64(0.05849872967207985), np.float64(0.09336590093789122), np.float64(0.042084354624261466), np.float64(0.10094484820960863), np.float64(0.06769610483605581), np.float64(0.07293139313198102), np.float64(0.10954452255012892), np.float64(0.1188511353911128), np.float64(0.0933663205509536), np.float64(0.09167777489329702), np.float64(0.10281553760009668), np.float64(0.11381173070354833), np.float64(0.06953739634575618), np.float64(0.045288546359546954), np.float64(0.051444466601843486), np.float64(0.11203080884536983), np.float64(0.14692459783567255), np.float64(0.0361599210668126), np.float64(0.06261911458754459), np.float64(0.06406403704112668), np.float64(0.08078412101069883), np.float64(0.051965564558695124), np.float64(0.0805744085927675), np.float64(0.0855261484728182), np.float64(0.07956919310914715), np.float64(0.1158158198327608), np.float64(0.08935409143029306), np.float64(0.14356327667534022), np.float64(0.11702546470476279), np.float64(0.1174228710675512), np.float64(0.12096559106858294), np.float64(0.043415660880401406), np.float64(0.06260613756792202), np.float64(0.08383085166147977), np.float64(0.11467072783708375), np.float64(0.16946224773043003), np.float64(0.11687982480055127), np.float64(0.07925312082293998), np.float64(0.04068780880325385), np.float64(0.08006092250040239), np.float64(0.054175307101767316), np.float64(0.14350530874079553), np.float64(0.03293211065022061), np.float64(0.07009248105968317), np.float64(0.10621207099141623), np.float64(0.11537956101594057), np.float64(0.07254493454279103), np.float64(0.048418418530545994), np.float64(0.20420027077627093), np.float64(0.14695616604504522), np.float64(0.03282338013383318), np.float64(0.07876804851766236), np.float64(0.13309626477243963), np.float64(0.08879837836252397), np.float64(0.12885516945374145), np.float64(0.07346362807952038), np.float64(0.08649154218860727), np.float64(0.0745097829322495), np.float64(0.10531681549752721), np.float64(0.1713935578242289), np.float64(0.03370904190652314), np.float64(0.0750758919306159), np.float64(0.20793169945010875), np.float64(0.0593627771984128), np.float64(0.04935292610346809), np.float64(0.08814874948828455), np.float64(0.09938869307171838), np.float64(0.06351471011389764), np.float64(0.06382293567263223), np.float64(0.09308587836941676), np.float64(0.06449806188891327), np.float64(0.0370403870960471), np.float64(0.10920969363419676), np.float64(0.03833798940824849), np.float64(0.12763248085105364), np.float64(0.11296408593850903), np.float64(0.06579794564403499), np.float64(0.06566748560115872), np.float64(0.08456221236176725), np.float64(0.06805131247429048), np.float64(0.06896316544675359), np.float64(0.03517606451756169), np.float64(0.06994477477559786), np.float64(0.10412012702204597), np.float64(0.09170349569768779), np.float64(0.28664223485860973), np.float64(0.10433541018293786), np.float64(0.05670478915773759), np.float64(0.11424044274569152), np.float64(0.09211493556049452), np.float64(0.20597518370163778), np.float64(0.11873496814707268), np.float64(0.12494330144275943), np.float64(0.06857934824880292), np.float64(0.09126727261180612), np.float64(0.0824331431438235), np.float64(0.09170372140730933), np.float64(0.0980951427652171), np.float64(0.11365521377550614), np.float64(0.08310202096106246), np.float64(0.0419656668820196), np.float64(0.01714499995665767), np.float64(0.0944687354056693), np.float64(0.05696521833748805), np.float64(0.15984451843593211), np.float64(0.08984404691691288), np.float64(0.1617549317021628), np.float64(0.08244800862379112), np.float64(0.14015414104778823), np.float64(0.13211827011750427), np.float64(0.17475220334807368), np.float64(0.06806514175070691), np.float64(0.04599226431955355), np.float64(0.09961450153358455), np.float64(0.02457874685263395), np.float64(0.12597222129286134), np.float64(0.04801503216641918), np.float64(0.17189127266232468), np.float64(0.07220359982438439), np.float64(0.09324315037306616), np.float64(0.08266656461162714), np.float64(0.12688705813326773), np.float64(0.06020032257191709), np.float64(0.12292406722362038), np.float64(0.09716691276529195), np.float64(0.06314070531536951), np.float64(0.11851714912662374), np.float64(0.060558441436593086), np.float64(0.030457520664163868), np.float64(0.08328107732535499), np.float64(0.036254498617242656), np.float64(0.0510330215486171), np.float64(0.07295959907975756), np.float64(0.0826918062428379), np.float64(0.11062188495886643), np.float64(0.12236741822269175), np.float64(0.09582808382635663), np.float64(0.1356916757258471), np.float64(0.0903393893152669), np.float64(0.10473245968858605), np.float64(0.08073833376035423), np.float64(0.06489435212691111), np.float64(0.15498471780853035), np.float64(0.09223126808787148), np.float64(0.13850872854490184), np.float64(0.07934819688615617), np.float64(0.1482876725654294), np.float64(0.04424398459738622), np.float64(0.07072967690383485), np.float64(0.09969596529961114), np.float64(0.07107613822685557), np.float64(0.11977460517676833), np.float64(0.0833713563765158), np.float64(0.09952887387150804), np.float64(0.1323046791362509), np.float64(0.07487666848222249), np.float64(0.10641244184999814), np.float64(0.10567149352418805), np.float64(0.051152859270424116), np.float64(0.07144964521062559), np.float64(0.07639973014199307), np.float64(0.14088429975975114), np.float64(0.06636922107336149), np.float64(0.07610124275388806), np.float64(0.1017136442500992), np.float64(0.12285830814241422), np.float64(0.05250584147128554), np.float64(0.13034523712807525), np.float64(0.01753344330410189), np.float64(0.1224488003016002), np.float64(0.1060847178418101), np.float64(0.08616810589550128), np.float64(0.09970327813343953), np.float64(0.045947737544312736), np.float64(0.11623955265855732), np.float64(0.0653483334837474), np.float64(0.1151145711723297), np.float64(0.1394390804593111), np.float64(0.05996748223347191), np.float64(0.0916110356543829), np.float64(0.022606164313714684), np.float64(0.08969936953318954), np.float64(0.06259835100227781), np.float64(0.04100351101232092), np.float64(0.07471639294228381), np.float64(0.11083783136512651), np.float64(0.17611702508774105), np.float64(0.07111507849698058), np.float64(0.06042170790323755), np.float64(0.0634431081954201), np.float64(0.0649007694287755), np.float64(0.03249552713057785), np.float64(0.09075110417305948), np.float64(0.12261242537907086), np.float64(0.050232890603655315), np.float64(0.048140956347267574), np.float64(0.19667464692572925), np.float64(0.10620469107613441), np.float64(0.08964736659898544), np.float64(0.08205362916551616), np.float64(0.13644226949343305), np.float64(0.06764384936534046), np.float64(0.15593531845661393), np.float64(0.1092010349993717), np.float64(0.047305384341160064), np.float64(0.18305478486305166), np.float64(0.11337330629662684), np.float64(0.0790347350696177), np.float64(0.04312753472247582), np.float64(0.07477277540560673), np.float64(0.15728074816185822), np.float64(0.09966459931025728), np.float64(0.10675903940505269), np.float64(0.09768488536536192), np.float64(0.06121982302016973), np.float64(0.12470411654722), np.float64(0.03394287690973549), np.float64(0.036298123246814154), np.float64(0.11706800640455692), np.float64(0.09350899825201855), np.float64(0.03119715605455393), np.float64(0.052416830333570655), np.float64(0.11540426704743298), np.float64(0.07558099580225862), np.float64(0.08071209257248688), np.float64(0.13803692565924408), np.float64(0.07814542321537578), np.float64(0.07975052371316994), np.float64(0.09391220258794303), np.float64(0.03659098133860073), np.float64(0.1349644227824323), np.float64(0.15161521506675618), np.float64(0.0967717031183613), np.float64(0.10348978336161627), np.float64(0.10480187593394505), np.float64(0.09125950001969121), np.float64(0.07588257962668281), np.float64(0.10753854750705186), np.float64(0.08636240424015564), np.float64(0.05928682494708166), np.float64(0.09903871662554835), np.float64(0.11878846554942703), np.float64(0.07102829688535636), np.float64(0.11262336891516163), np.float64(0.06354189947891083), np.float64(0.12683420239872903), np.float64(0.027222376474957274), np.float64(0.10466948739926323), np.float64(0.07475787812279822), np.float64(0.06878363430423573), np.float64(0.13823854549007672), np.float64(0.1577395451907735), np.float64(0.03654050869415405), np.float64(0.09551232941225345), np.float64(0.10566745761438773), np.float64(0.030373735662930123), np.float64(0.15525255177213565), np.float64(0.1465922215237274), np.float64(0.0947956608310382), np.float64(0.10532609309984099), np.float64(0.09670789173740486), np.float64(0.12609726507746277), np.float64(0.07179911097350815), np.float64(0.08090120669453615), np.float64(0.048359483152196514), np.float64(0.09950633179361981), np.float64(0.043797332155642195), np.float64(0.10050936580533608), np.float64(0.05812627431962097), np.float64(0.07141843473178801), np.float64(0.062250002956309516), np.float64(0.14754009540137245), np.float64(0.0483781635217895), np.float64(0.2385663613429464), np.float64(0.11646103517840141), np.float64(0.04927476495478867), np.float64(0.10299618976288717), np.float64(0.05506372436517751), np.float64(0.029708082875913734), np.float64(0.10621741166600178), np.float64(0.11390187787832333), np.float64(0.04416611813243607), np.float64(0.06149577052347637), np.float64(0.10473277270660317), np.float64(0.13732157026535333), np.float64(0.116884968632549), np.float64(0.09558031775737978), np.float64(0.09074741729813636), np.float64(0.10927922600382256), np.float64(0.03389915258079686), np.float64(0.04308559467460391), np.float64(0.09982461213204594), np.float64(0.08090098244936182), np.float64(0.07532329629807855), np.float64(0.0377653375324693), np.float64(0.033704095769908966), np.float64(0.13353159143028803), np.float64(0.10008804508710452), np.float64(0.13977441490939002), np.float64(0.09009012887375253), np.float64(0.07721852362605017), np.float64(0.044421802202537455), np.float64(0.1272568260736084), np.float64(0.09968536011081212), np.float64(0.07512432926812158), np.float64(0.09324423204826754), np.float64(0.10630637479603766), np.float64(0.16694605863890272), np.float64(0.07070282875327125), np.float64(0.06882089444626002), np.float64(0.12500398727354953), np.float64(0.10090792941319845), np.float64(0.10304529175913961), np.float64(0.1350315546430327), np.float64(0.11696291890644551), np.float64(0.12520253661302155), np.float64(0.05083084040850844), np.float64(0.05584518084191332), np.float64(0.0819016005462376), np.float64(0.07271276079321759), np.float64(0.12296381386446018), np.float64(0.04367428434392342), np.float64(0.03540553218520804), np.float64(0.10407478892722528), np.float64(0.059464698898162714), np.float64(0.048547668894359075), np.float64(0.13205892343235712), np.float64(0.06253548530068048), np.float64(0.07535006557902516), np.float64(0.16446144662299544), np.float64(0.10514454425518562), np.float64(0.032130401442574896), np.float64(0.051539184963764424), np.float64(0.11564399933671579), np.float64(0.12903316677498947), np.float64(0.02866533293654206), np.float64(0.04761178406496932), np.float64(0.10175711495174654), np.float64(0.08454749679475385), np.float64(0.14084131975097597), np.float64(0.22561081661080115), np.float64(0.15276179927958367), np.float64(0.10187124164389037), np.float64(0.05506701338280067), np.float64(0.07471950909022675), np.float64(0.10929098932039195), np.float64(0.09704091205011908), np.float64(0.10470340697841166), np.float64(0.11010000236848995), np.float64(0.12264399328193404), np.float64(0.03563391177189985), np.float64(0.10615077629880339), np.float64(0.1841448797430392), np.float64(0.0946075664684199), np.float64(0.06397127404408003), np.float64(0.08394097840611074), np.float64(0.13149170721727188), np.float64(0.13412202786211386), np.float64(0.05582179560280352), np.float64(0.1213200072296158), np.float64(0.12501685710181895), np.float64(0.1361458233130921), np.float64(0.07300079234100026), np.float64(0.07309967563669463), np.float64(0.11496486576635044), np.float64(0.08350785046677024), np.float64(0.10295483609483526), np.float64(0.083154879357507), np.float64(0.029527517115507187), np.float64(0.10792634378633989), np.float64(0.1677974725900539), np.float64(0.05512563465349669), np.float64(0.1739120815492963), np.float64(0.09479855799651245), np.float64(0.06532955416152846), np.float64(0.1043706889762647), np.float64(0.09197660466213245), np.float64(0.051649808905690556), np.float64(0.06649429974595096), np.float64(0.10206299177374296), np.float64(0.1414380533500671), np.float64(0.08001722533746557), np.float64(0.1630988120646968), np.float64(0.11320966843466189), np.float64(0.07613570929665117), np.float64(0.06361641988553322), np.float64(0.0618009933734183), np.float64(0.07027467376163539), np.float64(0.10305550880077233), np.float64(0.08933647445652684), np.float64(0.07346665488584678), np.float64(0.09857587513514), np.float64(0.09817240190821243), np.float64(0.054265361382176025), np.float64(0.0666306718319641), np.float64(0.16747032733132036), np.float64(0.08148121000191808), np.float64(0.1977633890295687), np.float64(0.07253674719617705), np.float64(0.1268345325282863), np.float64(0.08996818527257396), np.float64(0.12227498752416857), np.float64(0.063401548865135), np.float64(0.0964647429834348), np.float64(0.1085287446025146), np.float64(0.13260554624327586), np.float64(0.11659345350727394), np.float64(0.10701690733119498), np.float64(0.09162736971903145), np.float64(0.11560932132197106), np.float64(0.0853596301700371), np.float64(0.1098323107959274), np.float64(0.09746222734603252), np.float64(0.16030398797397083), np.float64(0.11308578883226619), np.float64(0.06317802328912542), np.float64(0.07329692794989803), np.float64(0.029065024766420814), np.float64(0.12824808445977556), np.float64(0.06385462959385328), np.float64(0.13642454644485388), np.float64(0.1521798548474737), np.float64(0.06797821392119639), np.float64(0.07787400594599361), np.float64(0.09709330736912039), np.float64(0.06329413647422381), np.float64(0.07920473346214614), np.float64(0.10659744403768352), np.float64(0.1733804002769918), np.float64(0.07873742097157196), np.float64(0.10265311033218925), np.float64(0.20810918513030663), np.float64(0.08002192383919053), np.float64(0.055781063565244836), np.float64(0.040564001639679256), np.float64(0.10578194185836531), np.float64(0.08131789872243118), np.float64(0.13003464198804698), np.float64(0.11587881767474628), np.float64(0.11845586860878916), np.float64(0.09604270323991436), np.float64(0.11957868027293722), np.float64(0.029432440641509912), np.float64(0.1348114204682863), np.float64(0.030898201582867563), np.float64(0.09022633646590501), np.float64(0.1332549688232276), np.float64(0.06056181569173831), np.float64(0.06960764142626195), np.float64(0.08959835868938502), np.float64(0.08628636879596732), np.float64(0.16078360039090825), np.float64(0.11510974401071868), np.float64(0.15886608792794987), np.float64(0.07950014288254285)]\n"
     ]
    }
   ],
   "source": [
    "\n",
    "\n",
    "\n",
    "scaled_error = model_4.backtest(\n",
    "    series=store_scalers[\"CA_2\"][\"dual_target\"].ts_transform(series_store['CA_2']),                # scaled target\n",
    "    future_covariates=store_scalers[\"CA_2\"][\"covariates\"].transform(future_covs_store['CA_2']), # if future covariates\n",
    "    forecast_horizon=28,\n",
    "    start=0.8,\n",
    "    retrain=False,          # Use True if you want to re-fit the model and the transformers at each step\n",
    "    metric=mae,\n",
    "    last_points_only=False,\n",
    "    reduction=np.mean,\n",
    "    verbose=True\n",
    ")\n",
    "\n",
    "print(\"MAE on scaled data:\", scaled_error)\n",
    "\n"
   ]
  },
  {
   "cell_type": "code",
   "execution_count": null,
   "metadata": {},
   "outputs": [
    {
     "ename": "TypeError",
     "evalue": "'numpy.float64' object is not iterable",
     "output_type": "error",
     "traceback": [
      "\u001b[0;31m---------------------------------------------------------------------------\u001b[0m",
      "\u001b[0;31mTypeError\u001b[0m                                 Traceback (most recent call last)",
      "Cell \u001b[0;32mIn[24], line 1\u001b[0m\n\u001b[0;32m----> 1\u001b[0m inversed_error_list \u001b[38;5;241m=\u001b[39m \u001b[43mstore_scalers\u001b[49m\u001b[43m[\u001b[49m\u001b[38;5;124;43m'\u001b[39;49m\u001b[38;5;124;43mCA_2\u001b[39;49m\u001b[38;5;124;43m'\u001b[39;49m\u001b[43m]\u001b[49m\u001b[43m[\u001b[49m\u001b[38;5;124;43m'\u001b[39;49m\u001b[38;5;124;43mdual_target\u001b[39;49m\u001b[38;5;124;43m'\u001b[39;49m\u001b[43m]\u001b[49m\u001b[38;5;241;43m.\u001b[39;49m\u001b[43mts_inverse_transform\u001b[49m\u001b[43m(\u001b[49m\u001b[43mscaled_error\u001b[49m\u001b[43m)\u001b[49m\n",
      "Cell \u001b[0;32mIn[3], line 48\u001b[0m, in \u001b[0;36mDualScaler.ts_inverse_transform\u001b[0;34m(self, series, in_place, **kwargs)\u001b[0m\n\u001b[1;32m     42\u001b[0m \u001b[38;5;250m\u001b[39m\u001b[38;5;124;03m\"\"\"\u001b[39;00m\n\u001b[1;32m     43\u001b[0m \u001b[38;5;124;03mInverse-transform the sequential data and static covariates.\u001b[39;00m\n\u001b[1;32m     44\u001b[0m \u001b[38;5;124;03m\"\"\"\u001b[39;00m\n\u001b[1;32m     45\u001b[0m \u001b[38;5;66;03m#s = series if in_place else series.copy()\u001b[39;00m\n\u001b[1;32m     46\u001b[0m \n\u001b[1;32m     47\u001b[0m \u001b[38;5;66;03m# 1) Invert the sequential part\u001b[39;00m\n\u001b[0;32m---> 48\u001b[0m series \u001b[38;5;241m=\u001b[39m \u001b[38;5;28;43mself\u001b[39;49m\u001b[38;5;241;43m.\u001b[39;49m\u001b[43m_ts_scaler\u001b[49m\u001b[38;5;241;43m.\u001b[39;49m\u001b[43minverse_transform\u001b[49m\u001b[43m(\u001b[49m\u001b[43mseries\u001b[49m\u001b[43m)\u001b[49m\n\u001b[1;32m     50\u001b[0m \u001b[38;5;66;03m# 2) Invert the static covariates\u001b[39;00m\n\u001b[1;32m     51\u001b[0m \u001b[38;5;28;01mif\u001b[39;00m series[\u001b[38;5;241m0\u001b[39m]\u001b[38;5;241m.\u001b[39mstatic_covariates \u001b[38;5;129;01mis\u001b[39;00m \u001b[38;5;129;01mnot\u001b[39;00m \u001b[38;5;28;01mNone\u001b[39;00m:\n",
      "File \u001b[0;32m/opt/homebrew/anaconda3/envs/thesis/lib/python3.10/site-packages/darts/dataprocessing/transformers/invertible_data_transformer.py:351\u001b[0m, in \u001b[0;36mInvertibleDataTransformer.inverse_transform\u001b[0;34m(self, series, component_mask, series_idx, *args, **kwargs)\u001b[0m\n\u001b[1;32m    349\u001b[0m         iterator_ \u001b[38;5;241m=\u001b[39m \u001b[38;5;28menumerate\u001b[39m(series)\n\u001b[1;32m    350\u001b[0m     \u001b[38;5;28;01mfor\u001b[39;00m idx, series_list \u001b[38;5;129;01min\u001b[39;00m iterator_:\n\u001b[0;32m--> 351\u001b[0m         \u001b[43mdata\u001b[49m\u001b[38;5;241;43m.\u001b[39;49m\u001b[43mextend\u001b[49m\u001b[43m(\u001b[49m\u001b[43mseries_list\u001b[49m\u001b[43m)\u001b[49m\n\u001b[1;32m    352\u001b[0m         transformer_selector \u001b[38;5;241m+\u001b[39m\u001b[38;5;241m=\u001b[39m [idx] \u001b[38;5;241m*\u001b[39m \u001b[38;5;28mlen\u001b[39m(series_list)\n\u001b[1;32m    354\u001b[0m input_iterator \u001b[38;5;241m=\u001b[39m _build_tqdm_iterator(\n\u001b[1;32m    355\u001b[0m     \u001b[38;5;28mzip\u001b[39m(data, \u001b[38;5;28mself\u001b[39m\u001b[38;5;241m.\u001b[39m_get_params(transformer_selector\u001b[38;5;241m=\u001b[39mtransformer_selector)),\n\u001b[1;32m    356\u001b[0m     verbose\u001b[38;5;241m=\u001b[39m\u001b[38;5;28mself\u001b[39m\u001b[38;5;241m.\u001b[39m_verbose,\n\u001b[1;32m    357\u001b[0m     desc\u001b[38;5;241m=\u001b[39mdesc,\n\u001b[1;32m    358\u001b[0m     total\u001b[38;5;241m=\u001b[39m\u001b[38;5;28mlen\u001b[39m(transformer_selector),\n\u001b[1;32m    359\u001b[0m )\n",
      "\u001b[0;31mTypeError\u001b[0m: 'numpy.float64' object is not iterable"
     ]
    },
    {
     "ename": "",
     "evalue": "",
     "output_type": "error",
     "traceback": [
      "\u001b[1;31mThe Kernel crashed while executing code in the current cell or a previous cell. \n",
      "\u001b[1;31mPlease review the code in the cell(s) to identify a possible cause of the failure. \n",
      "\u001b[1;31mClick <a href='https://aka.ms/vscodeJupyterKernelCrash'>here</a> for more info. \n",
      "\u001b[1;31mView Jupyter <a href='command:jupyter.viewOutput'>log</a> for further details."
     ]
    }
   ],
   "source": [
    "inversed_error_list = store_scalers['CA_2']['dual_target'].ts_inverse_transform(scaled_error)"
   ]
  }
 ],
 "metadata": {
  "kernelspec": {
   "display_name": "thesis",
   "language": "python",
   "name": "python3"
  },
  "language_info": {
   "codemirror_mode": {
    "name": "ipython",
    "version": 3
   },
   "file_extension": ".py",
   "mimetype": "text/x-python",
   "name": "python",
   "nbconvert_exporter": "python",
   "pygments_lexer": "ipython3",
   "version": "3.10.16"
  }
 },
 "nbformat": 4,
 "nbformat_minor": 2
}
