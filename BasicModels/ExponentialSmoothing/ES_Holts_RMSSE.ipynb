{
 "cells": [
  {
   "cell_type": "markdown",
   "metadata": {},
   "source": [
    "# exponential smoothing model"
   ]
  },
  {
   "cell_type": "markdown",
   "metadata": {},
   "source": [
    "# Loading and Manipulating the Data"
   ]
  },
  {
   "cell_type": "code",
   "execution_count": 16,
   "metadata": {},
   "outputs": [],
   "source": [
    "from darts import TimeSeries\n",
    "import pandas as pd\n",
    "from darts.models import ExponentialSmoothing\n",
    "from darts.utils.utils import SeasonalityMode\n",
    "from darts.utils.utils import ModelMode\n",
    "from darts.metrics import rmse, mae"
   ]
  },
  {
   "cell_type": "code",
   "execution_count": 1,
   "metadata": {},
   "outputs": [],
   "source": [
    "import pandas as pd\n",
    "df_master = pd.read_pickle('/path/to/pklFiles/df_master.pkl')\n"
   ]
  },
  {
   "cell_type": "code",
   "execution_count": 2,
   "metadata": {},
   "outputs": [
    {
     "data": {
      "text/plain": [
       "Index(['id', 'item_id', 'dept_id', 'cat_id', 'store_id', 'state_id', 'd',\n",
       "       'sales', 'release', 'wm_yr_wk', 'sell_price', 'price_max', 'price_min',\n",
       "       'price_std', 'price_mean', 'price_norm', 'price_nunique',\n",
       "       'item_nunique', 'price_momentum', 'price_momentum_m',\n",
       "       'price_momentum_y', 'event_name_1', 'event_type_1', 'event_name_2',\n",
       "       'event_type_2', 'snap_CA', 'snap_TX', 'snap_WI', 'tm_d', 'tm_m', 'tm_y',\n",
       "       'tm_wm', 'tm_dw', 'tm_w_end', 'date'],\n",
       "      dtype='object')"
      ]
     },
     "execution_count": 2,
     "metadata": {},
     "output_type": "execute_result"
    }
   ],
   "source": [
    "df_master.columns"
   ]
  },
  {
   "cell_type": "code",
   "execution_count": 3,
   "metadata": {},
   "outputs": [
    {
     "data": {
      "text/html": [
       "<div>\n",
       "<style scoped>\n",
       "    .dataframe tbody tr th:only-of-type {\n",
       "        vertical-align: middle;\n",
       "    }\n",
       "\n",
       "    .dataframe tbody tr th {\n",
       "        vertical-align: top;\n",
       "    }\n",
       "\n",
       "    .dataframe thead th {\n",
       "        text-align: right;\n",
       "    }\n",
       "</style>\n",
       "<table border=\"1\" class=\"dataframe\">\n",
       "  <thead>\n",
       "    <tr style=\"text-align: right;\">\n",
       "      <th></th>\n",
       "      <th>id</th>\n",
       "      <th>item_id</th>\n",
       "      <th>dept_id</th>\n",
       "      <th>cat_id</th>\n",
       "      <th>store_id</th>\n",
       "      <th>state_id</th>\n",
       "      <th>d</th>\n",
       "      <th>sales</th>\n",
       "      <th>release</th>\n",
       "      <th>wm_yr_wk</th>\n",
       "      <th>...</th>\n",
       "      <th>snap_CA</th>\n",
       "      <th>snap_TX</th>\n",
       "      <th>snap_WI</th>\n",
       "      <th>tm_d</th>\n",
       "      <th>tm_m</th>\n",
       "      <th>tm_y</th>\n",
       "      <th>tm_wm</th>\n",
       "      <th>tm_dw</th>\n",
       "      <th>tm_w_end</th>\n",
       "      <th>date</th>\n",
       "    </tr>\n",
       "  </thead>\n",
       "  <tbody>\n",
       "    <tr>\n",
       "      <th>576</th>\n",
       "      <td>CA_1_FOODS_1_001</td>\n",
       "      <td>FOODS_1_001</td>\n",
       "      <td>FOODS_1</td>\n",
       "      <td>FOODS</td>\n",
       "      <td>CA_1</td>\n",
       "      <td>CA</td>\n",
       "      <td>1</td>\n",
       "      <td>3.0</td>\n",
       "      <td>0</td>\n",
       "      <td>11101</td>\n",
       "      <td>...</td>\n",
       "      <td>0</td>\n",
       "      <td>0</td>\n",
       "      <td>0</td>\n",
       "      <td>29</td>\n",
       "      <td>1</td>\n",
       "      <td>0</td>\n",
       "      <td>5</td>\n",
       "      <td>5</td>\n",
       "      <td>1</td>\n",
       "      <td>2011-01-29</td>\n",
       "    </tr>\n",
       "    <tr>\n",
       "      <th>11508</th>\n",
       "      <td>CA_1_FOODS_1_001</td>\n",
       "      <td>FOODS_1_001</td>\n",
       "      <td>FOODS_1</td>\n",
       "      <td>FOODS</td>\n",
       "      <td>CA_1</td>\n",
       "      <td>CA</td>\n",
       "      <td>2</td>\n",
       "      <td>0.0</td>\n",
       "      <td>0</td>\n",
       "      <td>11101</td>\n",
       "      <td>...</td>\n",
       "      <td>0</td>\n",
       "      <td>0</td>\n",
       "      <td>0</td>\n",
       "      <td>30</td>\n",
       "      <td>1</td>\n",
       "      <td>0</td>\n",
       "      <td>5</td>\n",
       "      <td>6</td>\n",
       "      <td>1</td>\n",
       "      <td>2011-01-30</td>\n",
       "    </tr>\n",
       "    <tr>\n",
       "      <th>22440</th>\n",
       "      <td>CA_1_FOODS_1_001</td>\n",
       "      <td>FOODS_1_001</td>\n",
       "      <td>FOODS_1</td>\n",
       "      <td>FOODS</td>\n",
       "      <td>CA_1</td>\n",
       "      <td>CA</td>\n",
       "      <td>3</td>\n",
       "      <td>0.0</td>\n",
       "      <td>0</td>\n",
       "      <td>11101</td>\n",
       "      <td>...</td>\n",
       "      <td>0</td>\n",
       "      <td>0</td>\n",
       "      <td>0</td>\n",
       "      <td>31</td>\n",
       "      <td>1</td>\n",
       "      <td>0</td>\n",
       "      <td>5</td>\n",
       "      <td>0</td>\n",
       "      <td>0</td>\n",
       "      <td>2011-01-31</td>\n",
       "    </tr>\n",
       "    <tr>\n",
       "      <th>33372</th>\n",
       "      <td>CA_1_FOODS_1_001</td>\n",
       "      <td>FOODS_1_001</td>\n",
       "      <td>FOODS_1</td>\n",
       "      <td>FOODS</td>\n",
       "      <td>CA_1</td>\n",
       "      <td>CA</td>\n",
       "      <td>4</td>\n",
       "      <td>1.0</td>\n",
       "      <td>0</td>\n",
       "      <td>11101</td>\n",
       "      <td>...</td>\n",
       "      <td>1</td>\n",
       "      <td>1</td>\n",
       "      <td>0</td>\n",
       "      <td>1</td>\n",
       "      <td>2</td>\n",
       "      <td>0</td>\n",
       "      <td>1</td>\n",
       "      <td>1</td>\n",
       "      <td>0</td>\n",
       "      <td>2011-02-01</td>\n",
       "    </tr>\n",
       "    <tr>\n",
       "      <th>44304</th>\n",
       "      <td>CA_1_FOODS_1_001</td>\n",
       "      <td>FOODS_1_001</td>\n",
       "      <td>FOODS_1</td>\n",
       "      <td>FOODS</td>\n",
       "      <td>CA_1</td>\n",
       "      <td>CA</td>\n",
       "      <td>5</td>\n",
       "      <td>4.0</td>\n",
       "      <td>0</td>\n",
       "      <td>11101</td>\n",
       "      <td>...</td>\n",
       "      <td>1</td>\n",
       "      <td>0</td>\n",
       "      <td>1</td>\n",
       "      <td>2</td>\n",
       "      <td>2</td>\n",
       "      <td>0</td>\n",
       "      <td>1</td>\n",
       "      <td>2</td>\n",
       "      <td>0</td>\n",
       "      <td>2011-02-02</td>\n",
       "    </tr>\n",
       "  </tbody>\n",
       "</table>\n",
       "<p>5 rows × 35 columns</p>\n",
       "</div>"
      ],
      "text/plain": [
       "                     id      item_id  dept_id cat_id store_id state_id  d  \\\n",
       "576    CA_1_FOODS_1_001  FOODS_1_001  FOODS_1  FOODS     CA_1       CA  1   \n",
       "11508  CA_1_FOODS_1_001  FOODS_1_001  FOODS_1  FOODS     CA_1       CA  2   \n",
       "22440  CA_1_FOODS_1_001  FOODS_1_001  FOODS_1  FOODS     CA_1       CA  3   \n",
       "33372  CA_1_FOODS_1_001  FOODS_1_001  FOODS_1  FOODS     CA_1       CA  4   \n",
       "44304  CA_1_FOODS_1_001  FOODS_1_001  FOODS_1  FOODS     CA_1       CA  5   \n",
       "\n",
       "       sales  release  wm_yr_wk  ...  snap_CA  snap_TX  snap_WI  tm_d  tm_m  \\\n",
       "576      3.0        0     11101  ...        0        0        0    29     1   \n",
       "11508    0.0        0     11101  ...        0        0        0    30     1   \n",
       "22440    0.0        0     11101  ...        0        0        0    31     1   \n",
       "33372    1.0        0     11101  ...        1        1        0     1     2   \n",
       "44304    4.0        0     11101  ...        1        0        1     2     2   \n",
       "\n",
       "       tm_y  tm_wm  tm_dw  tm_w_end       date  \n",
       "576       0      5      5         1 2011-01-29  \n",
       "11508     0      5      6         1 2011-01-30  \n",
       "22440     0      5      0         0 2011-01-31  \n",
       "33372     0      1      1         0 2011-02-01  \n",
       "44304     0      1      2         0 2011-02-02  \n",
       "\n",
       "[5 rows x 35 columns]"
      ]
     },
     "execution_count": 3,
     "metadata": {},
     "output_type": "execute_result"
    }
   ],
   "source": [
    "df_master = df_master.sort_values(['id', 'date'])\n",
    "df_master.head()"
   ]
  },
  {
   "cell_type": "markdown",
   "metadata": {},
   "source": [
    "creating a smaller Dataframe for this simple Model"
   ]
  },
  {
   "cell_type": "code",
   "execution_count": 4,
   "metadata": {},
   "outputs": [],
   "source": [
    "df_master_smaller = df_master[['id', 'date','d', 'sales']].copy()\n",
    "del df_master"
   ]
  },
  {
   "cell_type": "markdown",
   "metadata": {},
   "source": [
    "Creating the timeseries with Darts"
   ]
  },
  {
   "cell_type": "code",
   "execution_count": 5,
   "metadata": {},
   "outputs": [
    {
     "name": "stdout",
     "output_type": "stream",
     "text": [
      "Created 30490 target series\n"
     ]
    }
   ],
   "source": [
    "from darts import TimeSeries\n",
    "# Dictionaries for storing the series\n",
    "target_series_dict = {}\n",
    "\n",
    "# Group by 'id' to isolate each item+store\n",
    "for i_id, group_df in df_master_smaller.groupby('id', sort=False, observed=False):\n",
    "    # Sort within the group by date (just to be safe)\n",
    "    group_df = group_df.sort_values('date')\n",
    "    \n",
    "    # --- TARGET SERIES (sales) ---\n",
    "    target_series = TimeSeries.from_dataframe(\n",
    "        df=group_df,\n",
    "        time_col='date',       # The column that holds your dates\n",
    "        value_cols='sales',    # The column(s) you want as your target\n",
    "        freq='D'               # Daily frequency (adjust if your data is weekly, etc.)\n",
    "    )\n",
    "    \n",
    "    # Store in the dictionaries\n",
    "    target_series_dict[i_id] = target_series\n",
    "\n",
    "print(f\"Created {len(target_series_dict)} target series\")"
   ]
  },
  {
   "cell_type": "markdown",
   "metadata": {},
   "source": [
    "Checking the type of my data"
   ]
  },
  {
   "cell_type": "code",
   "execution_count": 6,
   "metadata": {},
   "outputs": [
    {
     "name": "stdout",
     "output_type": "stream",
     "text": [
      "float64\n"
     ]
    }
   ],
   "source": [
    "some_id = list(target_series_dict.keys())[0]\n",
    "print(target_series_dict[some_id].dtype)  "
   ]
  },
  {
   "cell_type": "markdown",
   "metadata": {},
   "source": [
    "Splitting the training and validation Timeseries to Lists of Timeseries"
   ]
  },
  {
   "cell_type": "code",
   "execution_count": 7,
   "metadata": {},
   "outputs": [
    {
     "name": "stdout",
     "output_type": "stream",
     "text": [
      "Number of series: 30490\n",
      "Example training series length: 1941\n",
      "Example validation series length: 28\n"
     ]
    }
   ],
   "source": [
    "import numpy as np\n",
    "\n",
    "train_target_dict = {}\n",
    "test_target_dict = {}\n",
    "\n",
    "\n",
    "all_ids = (target_series_dict.keys())\n",
    "#forecast_horizon = 28  # e.g., 28 days of validation\n",
    "\n",
    "for i_id, target_series in target_series_dict.items():\n",
    "\n",
    "    #print(i_id)\n",
    "\n",
    "    train_target, test_target = target_series[:-28], target_series[-28:]\n",
    "\n",
    "    # --- CAST HERE to float32 ---\n",
    "    train_target = train_target.astype(np.float32)\n",
    "    test_target = test_target.astype(np.float32)\n",
    "\n",
    "    train_target_dict[i_id] = train_target\n",
    "    test_target_dict[i_id] = test_target\n",
    "\n",
    "\n",
    "print(f\"Number of series: {len(all_ids)}\")\n",
    "print(f\"Example training series length: {train_target_dict['CA_1_FOODS_1_001'].n_timesteps}\")\n",
    "print(f\"Example validation series length: {test_target_dict['CA_1_FOODS_1_001'].n_timesteps}\")"
   ]
  },
  {
   "cell_type": "code",
   "execution_count": null,
   "metadata": {},
   "outputs": [
    {
     "name": "stdout",
     "output_type": "stream",
     "text": [
      "float32\n"
     ]
    }
   ],
   "source": [
    "print(train_target_dict['CA_1_FOODS_1_001'].dtype)        # should be float32"
   ]
  },
  {
   "cell_type": "markdown",
   "metadata": {},
   "source": [
    "# Training\n",
    "actually training all my dataset"
   ]
  },
  {
   "cell_type": "code",
   "execution_count": 8,
   "metadata": {},
   "outputs": [],
   "source": [
    "all_ids = list(all_ids)"
   ]
  },
  {
   "cell_type": "code",
   "execution_count": null,
   "metadata": {},
   "outputs": [
    {
     "data": {
      "application/vnd.jupyter.widget-view+json": {
       "model_id": "0b9d7310bdd0475aa16eca9c67e84309",
       "version_major": 2,
       "version_minor": 0
      },
      "text/plain": [
       "Forecasting series:   0%|          | 0/30490 [00:00<?, ?it/s]"
      ]
     },
     "metadata": {},
     "output_type": "display_data"
    }
   ],
   "source": [
    "from darts.models import ExponentialSmoothing\n",
    "from tqdm.notebook import tqdm\n",
    "from darts.utils.utils import SeasonalityMode\n",
    "from darts.utils.utils import ModelMode\n",
    "\n",
    "\n",
    "forecasts_dict = {}\n",
    "for i_id in tqdm(target_series_dict.keys(), total=len(target_series_dict.keys()), desc=\"Forecasting series\"):\n",
    "    # Prepare training & validation series\n",
    "    # (assuming train_target_list and val_target_list have the same order as all_ids)\n",
    "    #train_series = train_target_list[i]\n",
    "\n",
    "    \n",
    "    # Initialize ARIMA model\n",
    "    model = ExponentialSmoothing(trend=ModelMode.ADDITIVE, seasonal=SeasonalityMode.ADDITIVE, seasonal_periods=7,random_state=42)\n",
    "    \n",
    "    # Fit\n",
    "    model.fit(train_target_dict[i_id])\n",
    "    \n",
    "    # Predict\n",
    "    forecast = model.predict(n=28)\n",
    "    \n",
    "    # Store the forecast\n",
    "    forecasts_dict[i_id] = forecast\n",
    "    \n",
    "    # Optional: Print info about each forecast\n",
    "    #print(f\"Forecasted {i_id}\")"
   ]
  },
  {
   "cell_type": "markdown",
   "metadata": {},
   "source": [
    "# Evaluation and Statistics"
   ]
  },
  {
   "cell_type": "markdown",
   "metadata": {},
   "source": [
    "# Weighted eval"
   ]
  },
  {
   "cell_type": "markdown",
   "metadata": {},
   "source": [
    "Reading the weights provided by the M5 competition to compute the WRMSSE"
   ]
  },
  {
   "cell_type": "code",
   "execution_count": 9,
   "metadata": {},
   "outputs": [],
   "source": [
    "import pickle\n",
    "\n",
    "# Path to the pickle file\n",
    "input_path = '/path/to/BasicModels/ExponentialSmoothing/forcast_dict_test_Holts.pkl'\n",
    "\n",
    "# Load the pickle file\n",
    "with open(input_path, 'rb') as f:\n",
    "    forecasts_dict = pickle.load(f)\n"
   ]
  },
  {
   "cell_type": "code",
   "execution_count": 10,
   "metadata": {},
   "outputs": [],
   "source": [
    "import pandas as pd \n",
    "weights_df = pd.read_csv(\"/path/to/ExtraFiles/weights_validation.csv\")\n",
    "\n",
    "# We only want rows for Level12\n",
    "weights_df = weights_df[weights_df[\"Level_id\"] == \"Level12\"].copy()\n",
    "\n",
    "# Create a new 'id' column by combining Agg_Level_1 and Agg_Level_2\n",
    "weights_df[\"id\"] =weights_df[\"Agg_Level_2\"] + \"_\" + weights_df[\"Agg_Level_1\"] \n",
    "\n",
    "\n",
    "weights_df = weights_df.sort_values(['id'])\n",
    "# Build a dictionary: {id_string: weight_value}\n",
    "weights_map = dict(zip(weights_df[\"id\"], weights_df[\"weight\"]))"
   ]
  },
  {
   "cell_type": "code",
   "execution_count": 11,
   "metadata": {},
   "outputs": [],
   "source": [
    "from darts.metrics import rmse,mae,rmsse\n",
    "wrmsse_list = []\n",
    "\n",
    "for i_id in all_ids:\n",
    "    weight_value = weights_map[i_id]\n",
    "    wrmsse_value = weight_value*rmsse(actual_series=test_target_dict[i_id],pred_series=forecasts_dict[i_id], insample=train_target_dict[i_id])\n",
    "    wrmsse_list.append(wrmsse_value)"
   ]
  },
  {
   "cell_type": "code",
   "execution_count": 12,
   "metadata": {},
   "outputs": [
    {
     "name": "stdout",
     "output_type": "stream",
     "text": [
      "WRMSSE = 0.8881092269729152\n"
     ]
    }
   ],
   "source": [
    "print(f\"WRMSSE = {sum(wrmsse_list)}\")"
   ]
  },
  {
   "cell_type": "markdown",
   "metadata": {},
   "source": [
    "# Normal RMSE"
   ]
  },
  {
   "cell_type": "code",
   "execution_count": null,
   "metadata": {},
   "outputs": [
    {
     "data": {
      "text/plain": [
       "<Axes: xlabel='date'>"
      ]
     },
     "execution_count": 14,
     "metadata": {},
     "output_type": "execute_result"
    },
    {
     "data": {
      "image/png": "[encoded data removed]",
      "text/plain": [
       "<Figure size 640x480 with 1 Axes>"
      ]
     },
     "metadata": {},
     "output_type": "display_data"
    }
   ],
   "source": [
    "forecasts_dict['CA_1_FOODS_1_001'].plot()\n",
    "test_target_dict['CA_1_FOODS_1_001'].plot()"
   ]
  },
  {
   "cell_type": "code",
   "execution_count": 13,
   "metadata": {},
   "outputs": [
    {
     "name": "stdout",
     "output_type": "stream",
     "text": [
      "\n",
      "Mean RMSE across all series: 1.438\n",
      "\n",
      "Mean MAE across all series: 1.113\n"
     ]
    }
   ],
   "source": [
    "rmse_list = []\n",
    "mae_list = []\n",
    "for i_id in all_ids:\n",
    "    forecast = forecasts_dict[i_id]\n",
    "    val_series = test_target_dict[i_id]\n",
    "\n",
    "    error_rmse = rmse(val_series, forecast)\n",
    "    error_mae = mae(val_series,forecast)\n",
    "    rmse_list.append(error_rmse)\n",
    "    mae_list.append(error_mae)\n",
    "\n",
    "mean_rmse = np.mean(rmse_list)\n",
    "mean_mae = np.mean(mae_list)\n",
    "\n",
    "# Print the mean RMSE\n",
    "print(f\"\\nMean RMSE across all series: {mean_rmse:.3f}\")\n",
    "print(f\"\\nMean MAE across all series: {mean_mae:.3f}\")"
   ]
  },
  {
   "cell_type": "markdown",
   "metadata": {},
   "source": [
    "# ETC"
   ]
  },
  {
   "cell_type": "code",
   "execution_count": 14,
   "metadata": {},
   "outputs": [],
   "source": [
    "metrics_df = pd.DataFrame({\n",
    "    'id': all_ids,\n",
    "    'RMSE': rmse_list,\n",
    "    'MAE' : mae_list\n",
    "})\n"
   ]
  },
  {
   "cell_type": "code",
   "execution_count": 19,
   "metadata": {},
   "outputs": [],
   "source": [
    "output_path = '/path/to/RMSE_MAE/metrics_df_Holts.pkl'\n",
    "with open(output_path, 'wb') as f:\n",
    "    pickle.dump(metrics_df, f)"
   ]
  },
  {
   "cell_type": "code",
   "execution_count": 17,
   "metadata": {},
   "outputs": [
    {
     "name": "stdout",
     "output_type": "stream",
     "text": [
      "\n",
      "RMSE Statistics:\n",
      "Mean RMSE: 1.44\n",
      "Median RMSE: 0.93\n",
      "Standard Deviation of RMSE: 1.98\n",
      "Minimum RMSE: 0.17\n",
      "Maximum RMSE: 60.94\n"
     ]
    }
   ],
   "source": [
    "# Calculate additional statistics\n",
    "mean_rmse = metrics_df['RMSE'].mean()\n",
    "median_rmse = metrics_df['RMSE'].median()\n",
    "std_rmse = metrics_df['RMSE'].std()\n",
    "min_rmse = metrics_df['RMSE'].min()\n",
    "max_rmse = metrics_df['RMSE'].max()\n",
    "\n",
    "# Print the statistics\n",
    "print(\"\\nRMSE Statistics:\")\n",
    "print(f\"Mean RMSE: {mean_rmse:.2f}\")\n",
    "print(f\"Median RMSE: {median_rmse:.2f}\")\n",
    "print(f\"Standard Deviation of RMSE: {std_rmse:.2f}\")\n",
    "print(f\"Minimum RMSE: {min_rmse:.2f}\")\n",
    "print(f\"Maximum RMSE: {max_rmse:.2f}\")\n"
   ]
  },
  {
   "cell_type": "code",
   "execution_count": 18,
   "metadata": {},
   "outputs": [
    {
     "name": "stdout",
     "output_type": "stream",
     "text": [
      "Number of RMSE's above 10 -> 276\n",
      "16879.575953094816\n"
     ]
    }
   ],
   "source": [
    "print(f\"Number of RMSE's above 10 -> {(metrics_df['RMSE'] > 10).sum()}\")\n",
    "# Determine the number of top 10% elements\n",
    "top_10_percent_count = int(len(metrics_df) * 0.10)\n",
    "\n",
    "# Sort RMSE values in descending order and take the top 10%\n",
    "top_10_percent_rmse_sum = metrics_df['RMSE'].nlargest(top_10_percent_count).sum()\n",
    "\n",
    "print(top_10_percent_rmse_sum)\n"
   ]
  },
  {
   "cell_type": "code",
   "execution_count": 20,
   "metadata": {},
   "outputs": [],
   "source": [
    "import matplotlib.pyplot as plt\n",
    "import seaborn as sns"
   ]
  },
  {
   "cell_type": "code",
   "execution_count": 23,
   "metadata": {},
   "outputs": [
    {
     "data": {
      "image/png": "[encoded data removed]",
      "text/plain": [
       "<Figure size 1000x600 with 1 Axes>"
      ]
     },
     "metadata": {},
     "output_type": "display_data"
    },
    {
     "data": {
      "image/png": "[encoded data removed]",
      "text/plain": [
       "<Figure size 1000x600 with 1 Axes>"
      ]
     },
     "metadata": {},
     "output_type": "display_data"
    }
   ],
   "source": [
    "# Define bin width and range for x-axis ticks\n",
    "bin_width = 1  # Each bar represents a width of 1\n",
    "x_min = int(metrics_df['RMSE'].min())  # Round to the nearest integer\n",
    "x_max = int(metrics_df['RMSE'].max())  # Round to the nearest integer\n",
    "bins = np.arange(x_min, x_max + bin_width, bin_width)  # Ensure each bin is of width 1\n",
    "  # Set x-axis ticks with increments of 10\n",
    "x_ticks = np.arange(0, x_max + 10, 10)\n",
    "# Plot a histogram of RMSE values\n",
    "plt.figure(figsize=(10, 6))\n",
    "sns.histplot(metrics_df['RMSE'], bins=bins, kde=True, color='green')\n",
    "\n",
    "# Set title and labels\n",
    "plt.title('Distribution of RMSE Across All Series')\n",
    "plt.xlabel('RMSE')\n",
    "plt.ylabel('Frequency')\n",
    "\n",
    "# Set x-axis tick increments\n",
    "plt.xticks(x_ticks)\n",
    "\n",
    "plt.show()\n",
    "\n",
    "\n",
    "\n",
    "# Define bin width and range for x-axis ticks\n",
    "bin_width = 1  # Each bar represents a width of 1\n",
    "x_min = int(metrics_df['MAE'].min())  # Round to the nearest integer\n",
    "x_max = int(metrics_df['MAE'].max())  # Round to the nearest integer\n",
    "bins = np.arange(x_min, x_max + bin_width, bin_width)  # Ensure each bin is of width 1\n",
    "  # Set x-axis ticks with increments of 10\n",
    "x_ticks = np.arange(0, x_max + 10, 10)\n",
    "# Plot a histogram of RMSE values\n",
    "plt.figure(figsize=(10, 6))\n",
    "sns.histplot(metrics_df['MAE'], bins=bins, kde=True, color='blue')\n",
    "\n",
    "# Set title and labels\n",
    "plt.title('Distribution of MAE Across All Series')\n",
    "plt.xlabel('MAE')\n",
    "plt.ylabel('Frequency')\n",
    "\n",
    "# Set x-axis tick increments\n",
    "plt.xticks(x_ticks)\n",
    "\n",
    "plt.show()"
   ]
  },
  {
   "cell_type": "code",
   "execution_count": 21,
   "metadata": {},
   "outputs": [
    {
     "data": {
      "image/png": "[encoded data removed]",
      "text/plain": [
       "<Figure size 800x600 with 1 Axes>"
      ]
     },
     "metadata": {},
     "output_type": "display_data"
    },
    {
     "data": {
      "image/png": "[encoded data removed]",
      "text/plain": [
       "<Figure size 800x600 with 1 Axes>"
      ]
     },
     "metadata": {},
     "output_type": "display_data"
    }
   ],
   "source": [
    "# Plot a boxplot of RMSE values\n",
    "plt.figure(figsize=(8, 6))\n",
    "sns.boxplot(x=metrics_df['RMSE'], color='green')\n",
    "plt.title('Boxplot of RMSE Across All Series')\n",
    "plt.xlabel('RMSE')\n",
    "plt.show()\n",
    "\n",
    "# Plot a boxplot of RMSE values\n",
    "plt.figure(figsize=(8, 6))\n",
    "sns.boxplot(x=metrics_df['MAE'], color='blue')\n",
    "plt.title('Boxplot of MAE Across All Series')\n",
    "plt.xlabel('MAE')\n",
    "plt.show()\n"
   ]
  },
  {
   "cell_type": "code",
   "execution_count": 20,
   "metadata": {},
   "outputs": [
    {
     "name": "stdout",
     "output_type": "stream",
     "text": [
      "Top 5 Series with Highest RMSE:\n",
      "                     id       RMSE\n",
      "24966  WI_2_FOODS_2_360  61.118484\n",
      "7515   CA_3_FOODS_3_808  57.651496\n",
      "6800   CA_3_FOODS_3_090  48.468748\n",
      "732    CA_1_FOODS_3_120  46.653506\n",
      "25074  WI_2_FOODS_3_070  43.700332\n",
      "\n",
      "Top 5 Series with Lowest RMSE:\n",
      "                         id      RMSE\n",
      "5966   CA_2_HOUSEHOLD_2_385  0.170571\n",
      "19640      TX_3_FOODS_3_736  0.173671\n",
      "30102  WI_3_HOUSEHOLD_2_128  0.174898\n",
      "15711      TX_2_FOODS_2_252  0.175738\n",
      "13753    TX_1_HOBBIES_1_125  0.176387\n"
     ]
    }
   ],
   "source": [
    "# Identify the top 5 series with the highest RMSE\n",
    "top5_highest_rmse = metrics_df.sort_values(by='RMSE', ascending=False).head(5)\n",
    "print(\"Top 5 Series with Highest RMSE:\")\n",
    "print(top5_highest_rmse)\n",
    "\n",
    "# Identify the top 5 series with the lowest RMSE\n",
    "top5_lowest_rmse = metrics_df.sort_values(by='RMSE').head(5)\n",
    "print(\"\\nTop 5 Series with Lowest RMSE:\")\n",
    "print(top5_lowest_rmse)\n"
   ]
  }
 ],
 "metadata": {
  "kernelspec": {
   "display_name": "thesis",
   "language": "python",
   "name": "python3"
  },
  "language_info": {
   "codemirror_mode": {
    "name": "ipython",
    "version": 3
   },
   "file_extension": ".py",
   "mimetype": "text/x-python",
   "name": "python",
   "nbconvert_exporter": "python",
   "pygments_lexer": "ipython3",
   "version": "3.10.16"
  }
 },
 "nbformat": 4,
 "nbformat_minor": 2
}
